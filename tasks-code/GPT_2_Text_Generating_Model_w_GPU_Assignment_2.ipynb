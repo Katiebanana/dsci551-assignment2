{
  "nbformat": 4,
  "nbformat_minor": 0,
  "metadata": {
    "colab": {
      "name": "GPT-2 Text-Generating Model w/ GPU: Assignment 2",
      "provenance": [],
      "collapsed_sections": [],
      "toc_visible": true
    },
    "kernelspec": {
      "name": "python3",
      "display_name": "Python 3"
    },
    "accelerator": "GPU"
  },
  "cells": [
    {
      "cell_type": "markdown",
      "metadata": {
        "id": "tMSIqWPRuygR"
      },
      "source": [
        "# Setup"
      ]
    },
    {
      "cell_type": "markdown",
      "metadata": {
        "id": "Bj2IJLHP3KwE"
      },
      "source": [
        "**GPU:** Use either a Nvidia T4 GPU or an Nvidia K80 GPU and verify which GPU.\n"
      ]
    },
    {
      "cell_type": "markdown",
      "metadata": {
        "id": "uBohJS-wBncg"
      },
      "source": [
        "**SE Types:** Reconnaissance, Social Engineering, Malware, Phishing\n"
      ]
    },
    {
      "cell_type": "code",
      "metadata": {
        "id": "KBkpRgBCBS2_",
        "colab": {
          "base_uri": "https://localhost:8080/"
        },
        "outputId": "f1dd8375-61b7-4436-8704-ce3463d41e3e"
      },
      "source": [
        "%tensorflow_version 1.x\n",
        "!pip install -q gpt-2-simple\n",
        "import gpt_2_simple as gpt2\n",
        "from datetime import datetime\n",
        "from google.colab import files\n",
        "\n",
        "!nvidia-smi"
      ],
      "execution_count": null,
      "outputs": [
        {
          "output_type": "stream",
          "text": [
            "TensorFlow 1.x selected.\n",
            "  Building wheel for gpt-2-simple (setup.py) ... \u001b[?25l\u001b[?25hdone\n",
            "WARNING:tensorflow:\n",
            "The TensorFlow contrib module will not be included in TensorFlow 2.0.\n",
            "For more information, please see:\n",
            "  * https://github.com/tensorflow/community/blob/master/rfcs/20180907-contrib-sunset.md\n",
            "  * https://github.com/tensorflow/addons\n",
            "  * https://github.com/tensorflow/io (for I/O related ops)\n",
            "If you depend on functionality not listed there, please file an issue.\n",
            "\n",
            "Wed Apr  7 17:08:43 2021       \n",
            "+-----------------------------------------------------------------------------+\n",
            "| NVIDIA-SMI 460.67       Driver Version: 460.32.03    CUDA Version: 11.2     |\n",
            "|-------------------------------+----------------------+----------------------+\n",
            "| GPU  Name        Persistence-M| Bus-Id        Disp.A | Volatile Uncorr. ECC |\n",
            "| Fan  Temp  Perf  Pwr:Usage/Cap|         Memory-Usage | GPU-Util  Compute M. |\n",
            "|                               |                      |               MIG M. |\n",
            "|===============================+======================+======================|\n",
            "|   0  Tesla P100-PCIE...  Off  | 00000000:00:04.0 Off |                    0 |\n",
            "| N/A   38C    P0    27W / 250W |      0MiB / 16280MiB |      0%      Default |\n",
            "|                               |                      |                  N/A |\n",
            "+-------------------------------+----------------------+----------------------+\n",
            "                                                                               \n",
            "+-----------------------------------------------------------------------------+\n",
            "| Processes:                                                                  |\n",
            "|  GPU   GI   CI        PID   Type   Process name                  GPU Memory |\n",
            "|        ID   ID                                                   Usage      |\n",
            "|=============================================================================|\n",
            "|  No running processes found                                                 |\n",
            "+-----------------------------------------------------------------------------+\n"
          ],
          "name": "stdout"
        }
      ]
    },
    {
      "cell_type": "markdown",
      "metadata": {
        "id": "pvaVFeUf_Voz"
      },
      "source": [
        "**download_gpt2: only run ONCE to download**"
      ]
    },
    {
      "cell_type": "markdown",
      "metadata": {
        "id": "IDbLade1_oty"
      },
      "source": [
        "**file upload from local machine: only upload once into files**"
      ]
    },
    {
      "cell_type": "code",
      "metadata": {
        "id": "uVKNym7UxRRv",
        "colab": {
          "resources": {
            "http://localhost:8080/nbextensions/google.colab/files.js": {
              "data": "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",
              "ok": true,
              "headers": [
                [
                  "content-type",
                  "application/javascript"
                ]
              ],
              "status": 200,
              "status_text": ""
            }
          },
          "base_uri": "https://localhost:8080/",
          "height": 73
        },
        "outputId": "d79280dc-49ba-4715-c33c-1290cfd5a511"
      },
      "source": [
        "import os\n",
        "from google.colab import files\n",
        "\n",
        "os.chdir('/content')\n",
        "uploaded = files.upload()"
      ],
      "execution_count": null,
      "outputs": [
        {
          "output_type": "display_data",
          "data": {
            "text/html": [
              "\n",
              "     <input type=\"file\" id=\"files-39c76ef2-8a31-446f-8a67-a6cad6454901\" name=\"files[]\" multiple disabled\n",
              "        style=\"border:none\" />\n",
              "     <output id=\"result-39c76ef2-8a31-446f-8a67-a6cad6454901\">\n",
              "      Upload widget is only available when the cell has been executed in the\n",
              "      current browser session. Please rerun this cell to enable.\n",
              "      </output>\n",
              "      <script src=\"/nbextensions/google.colab/files.js\"></script> "
            ],
            "text/plain": [
              "<IPython.core.display.HTML object>"
            ]
          },
          "metadata": {
            "tags": []
          }
        },
        {
          "output_type": "stream",
          "text": [
            "Saving fraudulent_emails_v2.json to fraudulent_emails_v2.json\n"
          ],
          "name": "stdout"
        }
      ]
    },
    {
      "cell_type": "code",
      "metadata": {
        "id": "RNj51F8Rxkgt",
        "colab": {
          "base_uri": "https://localhost:8080/"
        },
        "outputId": "fe632061-2abb-4988-e7d2-e04e8f731073"
      },
      "source": [
        "import json\n",
        "messages = json.load(open('fraudulent_emails_v2.json',))\n",
        "\n",
        "recon_train = []\n",
        "se_train = []\n",
        "phish_train = []\n",
        "mal_train = []\n",
        "\n",
        "for message in messages:\n",
        "    if 'se_tag' in message:\n",
        "        ttr_dict = message['TTR_text']\n",
        "        t = ttr_dict['ttr_text']\n",
        "\n",
        "        if t != '':\n",
        "            if message['se_tag'] == 'recon':\n",
        "                recon_train.append(t)\n",
        "\n",
        "            if message['se_tag'] == 'social_engineering':\n",
        "                se_train.append(t)\n",
        "\n",
        "            if message['se_tag'] == 'phishing':\n",
        "                phish_train.append(t)\n",
        "\n",
        "            elif message['se_tag'] == 'malware':\n",
        "                mal_train.append(t)\n",
        "\n",
        "            else:\n",
        "                continue\n",
        "    else:\n",
        "        print('hi')\n",
        "    \n",
        "\n",
        "print(\"Recon train:\", len(recon_train))\n",
        "print(\"SE messages:\", len(se_train))\n",
        "print(\"Phishing messages: \", len(phish_train))\n",
        "print(\"Malware messages: \", len(mal_train))\n",
        "\n",
        "print(446+1706+1447+79)\n"
      ],
      "execution_count": null,
      "outputs": [
        {
          "output_type": "stream",
          "text": [
            "Recon train: 446\n",
            "SE messages: 1706\n",
            "Phishing messages:  1447\n",
            "Malware messages:  79\n",
            "3678\n"
          ],
          "name": "stdout"
        }
      ]
    },
    {
      "cell_type": "code",
      "metadata": {
        "id": "t9cfpNkAFHFv"
      },
      "source": [
        "# write out text files with messages by attacker type\n",
        "# use to generate later\n",
        "with open(\"recon_train.txt\", \"w\") as output:\n",
        "    output.write(str(recon_train))\n",
        "\n",
        "with open(\"se_train.txt\", \"w\") as output:\n",
        "    output.write(str(se_train))\n",
        "\n",
        "with open(\"phish_train.txt\", \"w\") as output:\n",
        "    output.write(str(phish_train))\n",
        "\n",
        "with open(\"mal_train.txt\", \"w\") as output:\n",
        "    output.write(str(mal_train)) "
      ],
      "execution_count": null,
      "outputs": []
    },
    {
      "cell_type": "code",
      "metadata": {
        "id": "572QeSSHUQlY",
        "colab": {
          "base_uri": "https://localhost:8080/"
        },
        "outputId": "2c012d00-e68b-4e44-ffde-9e7e954ec387"
      },
      "source": [
        "import re\n",
        "\n",
        "tokens =[]\n",
        "for r in recon_train:\n",
        "    res = len(re.findall(r'\\s+', r))\n",
        "    tokens.append(res)\n",
        "\n",
        "recon_avg_length = int(sum(tokens)/len(tokens))\n",
        "\n",
        "tokens =[]\n",
        "for se in se_train:\n",
        "    result = len(re.findall(r'\\s+', se))\n",
        "    tokens.append(result)\n",
        "\n",
        "se_avg_length = int(sum(tokens)/len(tokens))\n",
        "\n",
        "tokens =[]\n",
        "for ph in phish_train:\n",
        "    result = len(re.findall(r'\\s+', ph))\n",
        "    tokens.append(result)\n",
        "\n",
        "ph_avg_length = int(sum(tokens)/len(tokens))\n",
        "\n",
        "tokens =[]\n",
        "for mal in mal_train:\n",
        "    result = len(re.findall(r'\\s+', mal))\n",
        "    tokens.append(result)\n",
        "\n",
        "mal_avg_length = int(sum(tokens)/len(tokens))\n",
        "\n",
        "print(mal_avg_length)\n",
        "print(se_avg_length)\n",
        "print(recon_avg_length)\n",
        "print(ph_avg_length)"
      ],
      "execution_count": null,
      "outputs": [
        {
          "output_type": "stream",
          "text": [
            "473\n",
            "426\n",
            "456\n",
            "475\n"
          ],
          "name": "stdout"
        }
      ]
    },
    {
      "cell_type": "markdown",
      "metadata": {
        "id": "uX9eqeEcbkcV"
      },
      "source": [
        "# Restart Runtime Cells"
      ]
    },
    {
      "cell_type": "code",
      "metadata": {
        "colab": {
          "base_uri": "https://localhost:8080/"
        },
        "id": "vGuC0gg1P_87",
        "outputId": "1ba27fff-37b5-4089-c218-be0123ba93a9"
      },
      "source": [
        "%tensorflow_version 1.x\n",
        "import gpt_2_simple as gpt2\n",
        "from datetime import datetime\n",
        "from google.colab import files\n",
        "\n",
        "!nvidia-smi"
      ],
      "execution_count": null,
      "outputs": [
        {
          "output_type": "stream",
          "text": [
            "TensorFlow 1.x selected.\n",
            "WARNING:tensorflow:\n",
            "The TensorFlow contrib module will not be included in TensorFlow 2.0.\n",
            "For more information, please see:\n",
            "  * https://github.com/tensorflow/community/blob/master/rfcs/20180907-contrib-sunset.md\n",
            "  * https://github.com/tensorflow/addons\n",
            "  * https://github.com/tensorflow/io (for I/O related ops)\n",
            "If you depend on functionality not listed there, please file an issue.\n",
            "\n",
            "Wed Apr  7 18:45:03 2021       \n",
            "+-----------------------------------------------------------------------------+\n",
            "| NVIDIA-SMI 460.67       Driver Version: 460.32.03    CUDA Version: 11.2     |\n",
            "|-------------------------------+----------------------+----------------------+\n",
            "| GPU  Name        Persistence-M| Bus-Id        Disp.A | Volatile Uncorr. ECC |\n",
            "| Fan  Temp  Perf  Pwr:Usage/Cap|         Memory-Usage | GPU-Util  Compute M. |\n",
            "|                               |                      |               MIG M. |\n",
            "|===============================+======================+======================|\n",
            "|   0  Tesla P100-PCIE...  Off  | 00000000:00:04.0 Off |                    0 |\n",
            "| N/A   52C    P0    30W / 250W |      0MiB / 16280MiB |      0%      Default |\n",
            "|                               |                      |                  N/A |\n",
            "+-------------------------------+----------------------+----------------------+\n",
            "                                                                               \n",
            "+-----------------------------------------------------------------------------+\n",
            "| Processes:                                                                  |\n",
            "|  GPU   GI   CI        PID   Type   Process name                  GPU Memory |\n",
            "|        ID   ID                                                   Usage      |\n",
            "|=============================================================================|\n",
            "|  No running processes found                                                 |\n",
            "+-----------------------------------------------------------------------------+\n"
          ],
          "name": "stdout"
        }
      ]
    },
    {
      "cell_type": "markdown",
      "metadata": {
        "id": "Xj-ll24dASVa"
      },
      "source": [
        "# Finetune GPT2 Model"
      ]
    },
    {
      "cell_type": "code",
      "metadata": {
        "id": "IZfDKi0tpMST",
        "colab": {
          "base_uri": "https://localhost:8080/"
        },
        "outputId": "b60169fc-1ccb-4702-c025-0e7f9e304174"
      },
      "source": [
        "gpt2.download_gpt2(model_name=\"124M\")"
      ],
      "execution_count": null,
      "outputs": [
        {
          "output_type": "stream",
          "text": [
            "Fetching checkpoint: 1.05Mit [00:00, 333Mit/s]                                                      \n",
            "Fetching encoder.json: 1.05Mit [00:00, 2.56Mit/s]\n",
            "Fetching hparams.json: 1.05Mit [00:00, 260Mit/s]                                                    \n",
            "Fetching model.ckpt.data-00000-of-00001: 498Mit [00:17, 28.7Mit/s]                                  \n",
            "Fetching model.ckpt.index: 1.05Mit [00:00, 185Mit/s]                                                \n",
            "Fetching model.ckpt.meta: 1.05Mit [00:00, 3.74Mit/s]\n",
            "Fetching vocab.bpe: 1.05Mit [00:00, 2.92Mit/s]\n"
          ],
          "name": "stderr"
        }
      ]
    },
    {
      "cell_type": "code",
      "metadata": {
        "id": "iPtk5GhHdzXW"
      },
      "source": [
        "recon_gen_file = 'gpt2_gentext_recon_{:%Y%m%d}.txt'.format(datetime.utcnow())\n",
        "se_gen_file = 'gpt2_gentext_se_{:%Y%m%d}.txt'.format(datetime.utcnow())\n",
        "phish_gen_file = 'gpt2_gentext_phish_{:%Y%m%d}.txt'.format(datetime.utcnow())\n",
        "mal_gen_file = 'gpt2_gentext_mal_{:%Y%m%d}.txt'.format(datetime.utcnow())"
      ],
      "execution_count": null,
      "outputs": []
    },
    {
      "cell_type": "markdown",
      "metadata": {
        "id": "J5MMp77GbvGO"
      },
      "source": [
        "## Recon Model\n"
      ]
    },
    {
      "cell_type": "code",
      "metadata": {
        "id": "845hnaMxnu0n"
      },
      "source": [
        "file_name = \"recon_train.txt\""
      ],
      "execution_count": null,
      "outputs": []
    },
    {
      "cell_type": "code",
      "metadata": {
        "colab": {
          "base_uri": "https://localhost:8080/"
        },
        "id": "p-ElJRzon6P1",
        "outputId": "8b01e3ac-447e-44f0-8c8c-97765572b05e"
      },
      "source": [
        "sess = gpt2.start_tf_sess()\n",
        "\n",
        "gpt2.finetune(sess,\n",
        "              dataset=file_name,\n",
        "              model_name='124M',\n",
        "              steps=500,\n",
        "              restore_from='fresh',\n",
        "              run_name='recon',\n",
        "              print_every=20,\n",
        "              sample_every=100,\n",
        "              save_every=250\n",
        "              )"
      ],
      "execution_count": null,
      "outputs": [
        {
          "output_type": "stream",
          "text": [
            "WARNING:tensorflow:From /usr/local/lib/python3.7/dist-packages/gpt_2_simple/src/sample.py:17: where (from tensorflow.python.ops.array_ops) is deprecated and will be removed in a future version.\n",
            "Instructions for updating:\n",
            "Use tf.where in 2.0, which has the same broadcast rule as np.where\n",
            "Loading checkpoint models/124M/model.ckpt\n",
            "INFO:tensorflow:Restoring parameters from models/124M/model.ckpt\n"
          ],
          "name": "stdout"
        },
        {
          "output_type": "stream",
          "text": [
            "\r  0%|          | 0/1 [00:00<?, ?it/s]"
          ],
          "name": "stderr"
        },
        {
          "output_type": "stream",
          "text": [
            "Loading dataset...\n"
          ],
          "name": "stdout"
        },
        {
          "output_type": "stream",
          "text": [
            "100%|██████████| 1/1 [00:02<00:00,  2.17s/it]\n"
          ],
          "name": "stderr"
        },
        {
          "output_type": "stream",
          "text": [
            "dataset has 322965 tokens\n",
            "Training...\n",
            "[20 | 33.67] loss=2.96 avg=2.96\n",
            "[40 | 58.90] loss=2.19 avg=2.57\n",
            "[60 | 84.14] loss=2.35 avg=2.50\n",
            "[80 | 109.39] loss=2.17 avg=2.41\n",
            "[100 | 134.58] loss=2.12 avg=2.35\n",
            "======== SAMPLE 1 ========\n",
            " drafting to me at the expiration of 2 years, which means that I have until June 14th, 1999 to get out of this fund. On this date, I shall notify you in writing of my intentions and intentions. Moreso, I desire you to be a person of interest to me because i will not be able to work in the finance. Please reply back to my e-mail address.\\nI wait in anticipation of your best regards,\\nMr. Kenneth Zadakovsky.\\r\\nRegards,\\r\\nMrs. Eleni Tish.\\r\\nYours faithfully,\\r \\nMs. Atsu Kova .\", 'FROM MR PETRES\\nDear Friend \\nI am MR PETRES, my Manager at Billing/Repatriation Account, my main purpose in contacting you was to make a proposal to you for the \\ndeal of your money, to be paid into your bank account through our company, because it is a \\nreliable and reputable organisation that you are reliable and honest both with your \\ndesignation and with your \\npersonal situation. Though we had decided on this arrangement for the next \\ngivilization of our company after the last of the farmers came to our help and decided to \\ndicate all resources to you for the purpose. \\nAs the manager of accounting and auditing at this account of ours named \\nWalter Dyer who died on 5th January 1999, I had the honour of drafting two confidential \\ndocuments of our company for the payment of funds from our operations and \\nin some cases, for safe keeping; the proceeds of sale and other business related \\ngoules in our country, and also fund our personal and family \\ndeceased businesses. \\nWe have decided we wish to take this money with us as the result of \\ndetection as a consignment and use it in any of our offices as a \\ntrustworthy contractor/corporate in respect to any account hence the \\nnecessary precautions have been taken in the development of this business. \\nAlthough we have a very strong claim of the fund in our Bank Accounts all \\nnecessary arrangements have been put in place to protect and \\nemphasize confidentiality. All expenses incurred during the course of this \\ntransaction is strictly with you. \\nWithin a reasonable time we will want to transfer this money in a designated account \\naway from our office to any reliable foreign Bank account or\\nforeign account where it will then be ready for transfer into the \\ndome of our bank account without revealing our account information to anyone. \\nThe actual execution of this move would involve most \\nleast amount of effort but if successful we will want you to keep all the necessary documents \\nand documents of your account so that after the transaction we will send you a copy of \\nexecutionary documents to proof\\nyou are in possession of everything necessary to forward this transaction to your \\ncountry for execution. To protect you from future exposure, we require \\nthat you give immediate attention to all relevant documents concerning the account \\nand the purpose of this transaction. We will observe strict \\ntummary secrecy on all aspect of this business, but if your company\\ndisinterested in assisting us in it, you will be entitled \\nto 25% of the total sum of $5.5m.Dollars Per Million. \\nPlease don't come into our company and get offended.\\nIn fact, we will be very pleased to take care of you. Please reply\\nat my email address only for easy response and confidentiality,\\nI guarantee that your content will be of an \\nepisodic and instructive \\ncomprehension as we discuss. \\nWith regards, I await in your highest regards\\nMR PETRES\\nMR KEN KOVASH\\nRELEASE\\nFROM MR PETRES\\nMR SETH.KOVASH.\\n_________________________________________________________________\\nI got your email address from an old friend, \\nwho works at US$14m/year or US$14,000,000.00) \\nwho always kept an eye on the highest interest of his clients. \\nMy late client, Mr.James Moore, a highly reputable \\nand influential banker. Since his death, he has kept the \\ndevelopment account $14m, which he deposited with a trusted \\ninstructor for security and management and now has in the \\naccount $14,200,000.00, which he used as his own personal account. \\nThere is no question in my mind that he was a \\ntrustworthy person; it is all in his business plans. I am \\nconfident that you will not entertain any claim to this account, the \\ntransaction is confidential and risk free. We want to transfer\\nto your\n",
            "\n",
            "[120 | 171.54] loss=2.42 avg=2.36\n",
            "[140 | 196.78] loss=2.28 avg=2.35\n",
            "[160 | 222.07] loss=1.57 avg=2.25\n",
            "[180 | 247.35] loss=2.04 avg=2.23\n",
            "[200 | 272.56] loss=1.49 avg=2.15\n",
            "======== SAMPLE 1 ========\n",
            " chance my husband has\\nearned in the past years and we are expecting our first son. So i want to ask you,\\nI am the only one with an honest heart, can you be my husband and\\nchildren.\\nYou can confirm with me on this private messaging app : http://messenger.google.com/tokens/', 'URGENT\\nDear Sir\\nI am Mrs Kamsabu. The only Daughter of my late parents Drusuf and Emma.\\nMy father was a great industrialist and the manager of a big chemical Company in the city of Cote d'Ivoire\\nbefore his sudden death in one of his huge industrial machinery plant accidents.\\nUpon the death of my father, I saw a very huge sum of money in a deposited Account in a Finance and Commercial Institution\\nhere in Ivory coast, and immediately discovered that the money did not belong to my father at this\\npossible period.\\nAfter his death, he came into my country for medical attention because of his long illness,\\nwhich killed him from now on. Since he was ill, my family has decided to send him some money which he\\ndeceive to reimburse himself for the death of his relatives before he dies ill.\\nMy late father did not intend on sending this money to any person after his death, and therefore I decided now to send it\\nalong with all my other family and friends to be safe in a safe safe\\naway from too great a risk because of him.\\nNo problems have occured and my family are in a better\\nposition to deal with the consequences of this fatal accident on his future benefit\\nattention than if I receive this money as a present.\\nMy plans are to make a Claim of this money in one of Europe, as a result\\nof which I will like to ask for your assistance in getting a US\\nForeign Partner for this money.\\nThe process for locating a foreign partner is as follows:(a) You go to www.freesurf.com for a reliable\\ndome, and ask for my assistance giving\\nassistance with property, property of your choice, and land\\nrepayment , in view of your strong preference over Bank for profit\\nmonies. btw your assistance is appreciated as all kinds of\\ninvestigation and discovery went into this fund , I am in believe that\\nthis money could be made from nothing, and I will give\\nyou more details in due respect.\\nMy late father's death  come on me so  urgently, I got your contact\\nout to meet you for the first time.\\nMy late fathers last name has been placed after the first\\ndevelopment, hence you could have the same name as my late fathers first name, as the next of kin, but in the circumstances, we dont\\nknow each other because my late father suffered a lot of set backs as a result of\\nthe wars in my family.\\nI want you to contact me immediately because i cannot afford the flight cost of this\\nplane, as i have no other choice. I require your position in\\ndirector of the business, and to have assurance that the business does not come\\nsupport me.\\nPlease, you have been adviced to keep top secret as i have nothing to hide, so that i can be very sure that this\\nproject will go ahead as planned.\\nAs soon as you respond to this letter I shall send to you the full set of blue\\n\\tintemperatures of the money, including the sum of fifty percent, after\\nyou receive the blue\\npaper, which will enable me map out strategies and strategies to\\nuse to finalize my deal with you.\\nPlease reply as soon as you can to this e-mail box:  michael_katamozu@fsmail.net;please\\nprovide the contact information of your country in detail and also provide a\\nterritory\\ncountry for easy communication.\\nThe business itself does contain chemicals, so I suggest you treat with\\nabsolute secrecy , as this may come into our knowledge\\nurgently by you. Also bear in mind the dangers involved in handling\\nthis project, as some chemicals can be very deadly to a person\\nexpecting to die in such accident, however, if\\nasaw from this source, I implore you, keep it to a \\nconfidentiality.\\nAwaiting your urgent reply  from email: joseph_katamozu@she-internet.com;please\\nrespond to this email address:\\nyou\\nThanks and regards\\nMRS.KIMEO KAMARA.\\nplease get in touch with me on TWITTER  \n",
            "\n",
            "[220 | 308.34] loss=1.22 avg=2.06\n",
            "[240 | 333.67] loss=1.19 avg=1.98\n",
            "Saving checkpoint/recon/model-250\n",
            "[260 | 362.26] loss=1.08 avg=1.91\n",
            "[280 | 387.45] loss=1.32 avg=1.87\n",
            "[300 | 412.65] loss=0.79 avg=1.79\n",
            "======== SAMPLE 1 ========\n",
            " your account, please do  visit me on  my profile  url and get back to me  as soon as possible assuring me your success.\\r\\nSincerly Hedin ,\\r\\nP.P. O'CONNOR GRAND PRIEST.\\r\\nDear Friend,\\r\\nThis is a confidential communication based on the hope of making you feel good, this\\r\\nproposal is not condoned by our organisation and we wish to avoid that fate. We\\r\\nwere surprised to find out that you are willing to help in this regards.\\r\\nAs I have for so long a long time, I have been trying to contact you with\\r\\nthis promise of $US40,000,000 USD(Twenty Million, Six hundred thousand USD).\\r\\nBut my efforts have been fruitless and I am having suicidal\\r\\nyourself. I have suffered very much because of this decision I am\\r\\nadmitting my age and the fact that I don't have any bank account. I must\\r\\nneed a financial aid that will enable me to transfer money that was deposited\\r\\nwith another person.\\r\\nMy situation is very unbearable and it is my duty therefore, to assist you in transferring\\r\\nvignette of this message to you as soon as possible.\\r\\nPlease do not entertain any embarrassment from this message since it will be\\r\\nsincerely yours. PLEASE, DO NOT PROPER AT THIS POINT.\\r\\nMy sincere sincere regards,\\r\\nMR HASSAN  TUNIS\\r\\nJOHAN EDUARD\\r\\n__________________________________________\\r\\nCe service d'une fois en toute m'aise\\r', \"Your time, my lord.\\nMy Name is URIA DAKARA,the only daughter of MY late father. During the next\\r\\nyear,my mother died mysteriously in a plane crash bound for\\r\\nevangelier-incroyable Abidjan. Morocco. I abandoned my \\r\\nmandating in Morocco due to the fact that my father died without making\\r\\n(further)</event><br><br>Dear Friend,\\r\\nThis letter is intended to be a confidential communication,\\r\\nunashamedly my father intended for you to read, especially\\r\\nhis diary in which he has filled in all the important details:\\r\\nI must i express the great sorrow i have suffered as a result\\r\\nto be totally truthful in this letter.I know that i will not\\r\\nget to this point.I am writing to you in good faith and trust. I hope\\r\\nthis is not an affront to be honest with you.I am writing\\r\\nyou,17 years of age,son of MR.LAURENT ZOEMA who was killed along with his entire\\r\\nfamily by JAMES ZOEMA. My late father was a professional\\r\\nengineer and also a huge business owner\\r\\nHe was also married with two small children.\\r\\nI pray to your God that this information will enable\\r\\nyou see into your potentials while i look for a reliable and\\r\\nreliable partner who will be capable of supporting me.\\r\\nI would appreciate it if you could assist me in\\r\\ncoming down this money  belonging to MY LIVING MOTHER.\\r\\nAs she is the only daughter of MY late father.During the mission i\\r\\nwas hitch-free but suddenly she died. I prayed that this money might\\r\\nbe re-taken from the vault because i have suffered alot of abuse from\\r\\nthe Government of REPUBLIC OF SOUTH AFRICA for possibly supporting my Father's\\r\\nsince my late father died along with his entire family leaving me\\r\\nalone with the sum of US$32.5 MILLION US dollars in cash.\\r\\nI didn't intend to re-offer this money to anybody, except\\r\\nmy late husband.It may sound strange to you to know that MY\\r\\nHIVING MOTHER died along with my father EMANUCE BENJAMINI. I BELIEVE THAT YOU\\r\\nGUARANTEEDIO WILL NEVER LET ME DOWN BEST YOU BY RECEIVING THIS MONEY\\r\\nAS-IS.\\r\\nI TRUST YOU TO PROMISE YOUR RESPECTIVELY NOW.\\r\\nWHENESIS AND PRECISION OF THIS TRANSACTION IS CONCLUDED,I will\\r\\n\n",
            "\n",
            "[320 | 448.26] loss=0.96 avg=1.73\n",
            "[340 | 473.46] loss=1.07 avg=1.69\n",
            "[360 | 498.74] loss=0.25 avg=1.60\n",
            "[380 | 523.95] loss=0.47 avg=1.54\n",
            "[400 | 549.19] loss=0.35 avg=1.47\n",
            "======== SAMPLE 1 ========\n",
            "30\\nand the funds have been moved out of the country, leaving the\\nbalance in South Africa; I have contacted you to assist in\\nthis deal, I want you and the African Government to side\\n(US) and pay US$5 (CAN)90 ($63)00 (TWENTY FIVE MILLION\\nUS DOLLARS) in the above transaction to a foreign bank\\naccount; it will be used for the new and used\\nof the funds, once the money has been transferred out of South Africa, it\\nwill be given to the new account holder before\\nany misapplication of the money will result in the money\\ngoing into the account of the account. The old account will\\nbe filled, but,the South Africa consulates refused to open the\\nmoney file of the file that already existed before\\nbeing\\nfiled.\\nThis is the actual reason why it will require a second party or fellow\\nwith\\nbetter information of the account/file whom he or she will\\ncarry out' the claim, the South Africa government will approve\\nthe content of this request if the personor (hopefully)\\ngroup of friends or family that executed the will executed the\\nwill and\\nbenefit\\nall party members, the process will take\\n4 to 5 weeks.\\nAt the conclusion of this process,you will be given 29% of\\nmoney,70% will be for me, while 5% will be to reimburse any\\ncost that may arise due to this\\nproceeding.\\nPlease maintain absolute confidentiality on\\nthe process, as I am putting in great faith\\nand trust in you and hope you will keep it\\nas top\\nsecret.\\nYours faithfully,\\nMR ASHILAM BECA BAKAH\\nPLEASE NOTE(s): PLEASE REPLY TO MY PRIVATEEMAINASCHILL@ME.\\nDEAR FRIEND,\\nFIRST PROPOSAL OF\\nSECRET\\nOn Monday, 31 July, 1997, 13:22 GMT 14:22 UK , my client, his wife and\\nmoney's valuables, were hitch-free at the shore of\\nLiberia during the Aviation and Excavations\\nand Early Retirement period; after going through every \\npresence of the dead they decided to search for a\\npersons that will be conveniently\\nonhabitable for the time being, the\\nfollowed procedure would have resulted in you\\nbeing pursued; on receipt \\nof your reply, I immediately contacted you to further\\ninvestigate further, and after\\nthe findings you\\ngould make in the course of the investigation, you and\\nyour families would be entitled to 30% of\\nthe total amount, while 5% would be for\\nyour parents.\\nIf you accept my proposal, kindly keep\\nthis confidential.  Please do not disclose\\nthis matter to anybody. Stopped short of seeking war with Iraq \\nover the consignment, I shall now seek international\\npermission to keep the consignment secret for security\\nafter the commencement of this investigation, I shall\\nimportancefullly disclose the content to you and\\nme thereby making it very\\nrelevant to your\\ninterested.  Please write me urgently\\nimmediately you\\nrespond through the above email address.  You\\nare welcome to\\nstand as\\nnext of kin to my client as may \\nenable you to draw up the necessary documents and\\nclaim the contents of the shipment as your\\ninterested.  Upon your acceptance to my proposal,\\nI am pleased to appoint you as the next of kin.\\nI have decided to employ a contractor\\nwho will assemble,process and safeguard the consignment\\non-operatively in your name.  This will be\\nbased on your assistance and opportunity to \\nsale yourself.  The expected life time of your clients\\nremain very much\\nup to date information is available on prospective clients/\\ncompanys interest in this transaction.  The information will\\nhelp you \\nsomelly understand and secure the consignment.  The process \\nimmediately following the news of the consignment's \\ndevelopment will\\nrequire absolute confidentiality and confidentiality is\\nnot an impediment to the successful accomplishment of this\\ntransaction.  At the conclusion of this\\ntransaction, you will be entitled to 20% of the \\ntotal amount,\\nwhile 5% will be for me.  I will  use my position\\nand\\ninsistability in obtaining any beneficiary\\nrespectable to your area.  At the\\nconfidential,rarely and \\nun\n",
            "\n",
            "[420 | 584.79] loss=0.85 avg=1.44\n",
            "[440 | 610.03] loss=0.48 avg=1.39\n",
            "[460 | 635.28] loss=0.40 avg=1.34\n",
            "[480 | 660.47] loss=0.47 avg=1.30\n",
            "[500 | 685.72] loss=0.29 avg=1.26\n",
            "Saving checkpoint/recon/model-500\n",
            "WARNING:tensorflow:From /tensorflow-1.15.2/python3.7/tensorflow_core/python/training/saver.py:963: remove_checkpoint (from tensorflow.python.training.checkpoint_management) is deprecated and will be removed in a future version.\n",
            "Instructions for updating:\n",
            "Use standard file APIs to delete files with this prefix.\n"
          ],
          "name": "stdout"
        }
      ]
    },
    {
      "cell_type": "code",
      "metadata": {
        "id": "AtYRG8Dmiz04"
      },
      "source": [
        "gpt2.generate_to_file(sess, destination_path = recon_gen_file, model_name='124M',                      \n",
        "                      length = recon_avg_length,\n",
        "                      temperature = 0.8, nsamples = 200, batch_size = 20)"
      ],
      "execution_count": null,
      "outputs": []
    },
    {
      "cell_type": "code",
      "metadata": {
        "id": "47cZBhUufnNJ"
      },
      "source": [
        "import os\n",
        "os.kill(os.getpid(), 9)"
      ],
      "execution_count": null,
      "outputs": []
    },
    {
      "cell_type": "code",
      "metadata": {
        "colab": {
          "base_uri": "https://localhost:8080/"
        },
        "id": "nnVBtFhSfwm0",
        "outputId": "ba2acf06-632d-4159-b5d0-7288186038a1"
      },
      "source": [
        "%tensorflow_version 1.x\n",
        "import gpt_2_simple as gpt2\n",
        "from datetime import datetime\n",
        "from google.colab import files\n",
        "\n",
        "!nvidia-smi"
      ],
      "execution_count": null,
      "outputs": [
        {
          "output_type": "stream",
          "text": [
            "TensorFlow 1.x selected.\n",
            "WARNING:tensorflow:\n",
            "The TensorFlow contrib module will not be included in TensorFlow 2.0.\n",
            "For more information, please see:\n",
            "  * https://github.com/tensorflow/community/blob/master/rfcs/20180907-contrib-sunset.md\n",
            "  * https://github.com/tensorflow/addons\n",
            "  * https://github.com/tensorflow/io (for I/O related ops)\n",
            "If you depend on functionality not listed there, please file an issue.\n",
            "\n",
            "Wed Apr  7 18:11:08 2021       \n",
            "+-----------------------------------------------------------------------------+\n",
            "| NVIDIA-SMI 460.67       Driver Version: 460.32.03    CUDA Version: 11.2     |\n",
            "|-------------------------------+----------------------+----------------------+\n",
            "| GPU  Name        Persistence-M| Bus-Id        Disp.A | Volatile Uncorr. ECC |\n",
            "| Fan  Temp  Perf  Pwr:Usage/Cap|         Memory-Usage | GPU-Util  Compute M. |\n",
            "|                               |                      |               MIG M. |\n",
            "|===============================+======================+======================|\n",
            "|   0  Tesla P100-PCIE...  Off  | 00000000:00:04.0 Off |                    0 |\n",
            "| N/A   68C    P0    36W / 250W |      0MiB / 16280MiB |      0%      Default |\n",
            "|                               |                      |                  N/A |\n",
            "+-------------------------------+----------------------+----------------------+\n",
            "                                                                               \n",
            "+-----------------------------------------------------------------------------+\n",
            "| Processes:                                                                  |\n",
            "|  GPU   GI   CI        PID   Type   Process name                  GPU Memory |\n",
            "|        ID   ID                                                   Usage      |\n",
            "|=============================================================================|\n",
            "|  No running processes found                                                 |\n",
            "+-----------------------------------------------------------------------------+\n"
          ],
          "name": "stdout"
        }
      ]
    },
    {
      "cell_type": "markdown",
      "metadata": {
        "id": "SG0Bh5i1b1Kw"
      },
      "source": [
        "## Social Engineering Model\n"
      ]
    },
    {
      "cell_type": "code",
      "metadata": {
        "id": "9Iu2T5tccMr0"
      },
      "source": [
        "# se model finetune\n",
        "file_name = \"se_train.txt\""
      ],
      "execution_count": null,
      "outputs": []
    },
    {
      "cell_type": "code",
      "metadata": {
        "colab": {
          "base_uri": "https://localhost:8080/"
        },
        "id": "ZvyZLbo7vi8I",
        "outputId": "2811f14c-5a77-47fc-c31a-ef706c47d491"
      },
      "source": [
        "sess = gpt2.start_tf_sess()\n",
        "\n",
        "gpt2.finetune(sess,\n",
        "              dataset=file_name,\n",
        "              model_name='124M',\n",
        "              steps=500,\n",
        "              restore_from='fresh',\n",
        "              run_name='se',\n",
        "              print_every=20,\n",
        "              sample_every=100,\n",
        "              save_every=250\n",
        "              )"
      ],
      "execution_count": null,
      "outputs": [
        {
          "output_type": "stream",
          "text": [
            "WARNING:tensorflow:From /usr/local/lib/python3.7/dist-packages/gpt_2_simple/src/sample.py:17: where (from tensorflow.python.ops.array_ops) is deprecated and will be removed in a future version.\n",
            "Instructions for updating:\n",
            "Use tf.where in 2.0, which has the same broadcast rule as np.where\n",
            "Loading checkpoint models/124M/model.ckpt\n",
            "INFO:tensorflow:Restoring parameters from models/124M/model.ckpt\n"
          ],
          "name": "stdout"
        },
        {
          "output_type": "stream",
          "text": [
            "\r  0%|          | 0/1 [00:00<?, ?it/s]"
          ],
          "name": "stderr"
        },
        {
          "output_type": "stream",
          "text": [
            "Loading dataset...\n"
          ],
          "name": "stdout"
        },
        {
          "output_type": "stream",
          "text": [
            "100%|██████████| 1/1 [00:06<00:00,  6.99s/it]\n"
          ],
          "name": "stderr"
        },
        {
          "output_type": "stream",
          "text": [
            "dataset has 1197813 tokens\n",
            "Training...\n",
            "[20 | 31.55] loss=2.93 avg=2.93\n",
            "[40 | 56.72] loss=2.75 avg=2.84\n",
            "[60 | 81.87] loss=2.51 avg=2.73\n",
            "[80 | 107.02] loss=2.44 avg=2.65\n",
            "[100 | 132.16] loss=2.39 avg=2.60\n",
            "======== SAMPLE 1 ========\n",
            " took you?\\r\\nMolly?\\r\\nmoney\\r\\nI have some\\r\\nmoney to give you.\\r\\nnope, sorry\\r\\nbut\\r', \"URGENT!\\nBEST\\r\\nMRS SHIRDEGAR.\\r\\n\\r\\n\\r\\nTHANK YOU.\\r\\nI AM MRS SHIRDEGAR.\\r\\nI AM AFRICA SENIAM KAIKURA\\r\\nJOHANNESBURG.\\r\\nTHANK YOU,\\r\\nTHE MANAGED DESK OF\\r\\nMRS SHIRDEGAR LAGADO.\\r\\nMEMBED\\r\\nI am Mary Sagadero, widow to Sir Hula Sagadero, president of the Senegal Association of Football (SAFA).\\r\\nwah this is what I do as husband and wife,we don\\r\\nlive for. I\\r\\ndecided over the retirement of some members of OUR SENEGAL ASSOCIATION,because they have\\r\\nthe desire to retire in order to invest in\\r\\nor help them (I have also decided to apply for a position in various foreign\\r\\ninvestments, so I would appreciate if you consider helping me\\r\\ndetermine where and how I might want to move my family's money to.I can\\r\\nmake my proposal to you in less than a few working days,we must\\r\\nmake an arrangement.\\r\\nThis matter has been discussed by my husband and I,but I don\\r\\nhave the means to make this arrangement.It is because my husband and I did not have the means\\r\\nthat we have gotten through to making this arrangement,I have decided to\\r\\nmake it through without you,please contact me by the first letter of email\\r\\n(mrsshirdsagadioromo@hotmail.com)with your\\r\\nmessage.I'm sorry I have put such a huge amount of work and effort into this proposal,but I\\r\\nhave also decided to seek your help in relation to a business\\r\\n(business)you may be interested in.I must say that this proposal\\r\\nwill not disappoint. I am afraid that in your time,this process will be\\r\\nabandoned,but I have not given up hope of getting back to you soon (because of my\\r\\nhealth and retirement).\\r\\nI am Mrs.Hansie Sagadado,the wife of Sir Hula Sagadero,president of the SAFA and\\r\\nsadvice president of the committee of Presidents.\\r\\nMy late husband Sir Hula Sagadero died in war in Sousse and I made \\r\\ncursory payments in the sum of Five Hundred Thousand United States Dollars and\\r\\nI did so with an investment that should help my health and be able to\\r\\nam in safety. In case of delay,this will be my last wish.I shall\\r\\nhave you as a co-conspirator in this transaction,so that you can make\\r\\nbills with my husband.\\r\\nThis transaction is highly anticipated. Please contact me immediately, as soon as your\\r\\nmessage gets to me through my official e-mail address: mrsshirdsagadioromo@hotmail.com\\r\", \"Mr.Dr. Ravi Mohandas.\\r\\nMy dear\\r\\nMy name is Mr.Ravi Mohandas. I am the son of General Mohammed Akbar Mohandas. I took refuge in your country due to al-Qaida affiliate and my father a militant, that is my father's name is now deceased and I know about this, he assassinated my father and some of his followers, but I did not kill him. I am seeking your assistance in this regard because after my Father's death he was declared dead from my father's plane crash in January 2000.I am contacting you on behalf of my family because I had been diagnosed with cancer. I am a widow on the mother-in-law of General Abdul Himmi Mohandas , who was killed in plane crash in May 2005 near Ahmedia .I got your contact information through the internet due to my husband. My father the General was a major oil explorer and was assassinated by al-Qaida affiliated forces during the Gulf War and a few months after that he got out of hiding. Though he remained out of the country he was later contacted by Allah and gave up all his claims to his son to Allah. Before his death, my father's wife and their three children\n",
            "\n",
            "[120 | 168.96] loss=2.45 avg=2.58\n",
            "[140 | 194.11] loss=1.96 avg=2.48\n",
            "[160 | 219.32] loss=2.56 avg=2.49\n",
            "[180 | 244.49] loss=2.40 avg=2.48\n",
            "[200 | 269.67] loss=1.91 avg=2.42\n",
            "======== SAMPLE 1 ========\n",
            ".0%\\r\\nFifty percent of the participants is from Pakistan and the remainder from my country.\\r\\nI am saddled with an enormous debt on my hands because of my position within the political and military establishment in Pakistan.\\r\\nI have been involved in oversea activities to bring about a peace deal with the United States and also helping bring about a peace deal in South Africa with a peace deal that would involve both countries.\\r\\nI have also helped to bring about some peace deal in the Middle East, Asia and South Africa.\\r\\nI am still battling with my sickness to come out of my hospital bed and treat my health adequately because I don't have any other viable option than war with my family that my late father foresaw when he said that his government would kill him if I remained in the country.\\r\\nMeanwhile, my situation as a refugee is not suited for war and that of my surviving family as I am only 14 years old.\\r\\nMeanwhile, my condition is so hopeless it cannot be termed a success. My late mother was an honest and devoted mother to many of my close friends and my family were devastated by my illness, which made me the only one who could not come out to my country due to my medical condition.\\r\\nMy late mother is now undergoing breast augmentation surgery to correct her cancerous growths from the transplantation surgery, which will take three and a half years to complete. But her health has deteriorated quite badly and I don't know where I am going for\\r\\ni never know what I am going to do next.\\r\\nMy late mother told me she will not receive a penny from the Government until she gets the operation done. She also told me that my father had some money in his possession that he did not want me to disclose to my late father due to the security reasons in keeping with this arrangement.\\r\\nMeanwhile, my late mother is ill, and nobody knows when she will be well enough to come out and be able to re-marry, so I am contacting you to assist in getting my late father a new husband to re-marry with a security company.\\r\\nI will be sending my son to any security company where he can be secured by a security guard that will be present during the transfer of my fathers funds to help get him a new husband.\\r\\nThis money will be used to invest the money properly in your company and your company will be used to acquire all the machinery needed to make the money.\\r\\nYou will be called upon to assist me in the transaction. If this opportunity comes up then please fill out my contact form\\r\\nand I will call you immediately to allow you in contact for further details.\\r\\nBest regards,\\r\\nMrs Marykat Bahargoon \\r\\n___________________________________________________________________________\\nAbandon. \\r\\n                                                                                                                                                                                                                                                                 \\r\\nContact for more details of the transaction. \\r\\nhttp://news.bbc.co.uk/1/hi/world/america/869479.stm\\r\", 'I hope you are okay. You must call me in time and I will put together a simple\\r\\nmessage for you,please, I am the new mathew and daughter to the late\\r\\ncolleagues at the end of the year in our church. I am the new matrician from the South\\r\\nregion of Dakar in south Africa,the matrician is the only member of his\\r\\nfamily to follow the instruction in our church and\\r\\nhave all\n",
            "\n",
            "[220 | 304.97] loss=1.98 avg=2.38\n",
            "[240 | 330.14] loss=1.59 avg=2.31\n",
            "Saving checkpoint/se/model-250\n",
            "[260 | 358.56] loss=2.20 avg=2.30\n",
            "[280 | 383.69] loss=1.09 avg=2.21\n",
            "[300 | 408.87] loss=2.05 avg=2.20\n",
            "======== SAMPLE 1 ========\n",
            " DERE.\\nBEST REGARDS\\nMR.SESAY MASSAQUOE.\\nDR.ROBERT M. LUNO', \"HOPE FOR A WINNING LIFE!\\nFROM THE DISCIPLINARY CHAIRMAN.\\nUNITED NATIONS GROU CAMPBELL.\\nFROM THE DESK OF THE PRESIDENT.\\nFORWARDED TO YOU.\\nFOR YOUR SUPPORT I AM PRESIDENT,\\nI AM PRESIDENT, MY GOVERNOR AND MY CHAIRMAN.I AM HERE TO HELP WITH THE CLAIMS AND PROPOSAL FOR THE OVER-SOLD PART OF US (THE M. DAN).I HAVE BEEN READY AND NEEDED AS A PART OF THE FORMER AND SUCCESSFUL DELEGATE BY THE PRESIDENT  WHOM I WILL WORK IN THIS COUNTRY. I HOPE YOU WILL NOT BETRAY THE BELOVED TRUST AND CONFIDENT I FEEL YOU ABOVE AS I WAS IN CHARGE OF MY BANKING IN SOUTH AFRICA.I WILL WANT TO TRANSFER THIS SUM OF US$3,500,000.00( TWENTY ONE MILLION FIVE HUNDRED THOUSAND UNITED STATES DOLLARS ) TO A TRUSTING ORGANIZATION WITH WHICH I WILL SUPPLY THIS MONEY TO YOU.I WILL WANT TO TRANSFER THIS FUND TO ANY OF YOUR BANKING ACCOUNTS WHERE I WILL WANT IT TO BE CURRENTLY.I WANT TO INVEST THIS MONEY IN YOUR COUNTRY, THIS IS BASED ON THE INFORMATION I MADE THROUGH MY SECRET AND BUSINESS CAREER,I WANT YOU TO ASSIST ME IN INVESTING THIS MONEY,BUT YOU WILL BE VENDING NO CONTACT OR E-MAIL FOR SOME REASON,YOU ARE PRESENTLY BANKING THE PROCEDURES AS SO SPECIAL TO MY BANK AND MY BANK ACCOUNTED PARTNER WHO ARE CURRENTLY AWAKING FOR YOUR ASSISTANCE AND CO-OPERATION IS A VERY SPECIAL AND HONEST PERSON WHO WOULD LOVE TO ASSIST IN THIS BUSINESS.THIS BUSINESS IS GENUINE,IT MUST BE AGREED A MONTHS AGO AND WHEN THE FUND SUCCESSFUL GET TO YOUR ACCOUNT,WE REQUIRE YOUR PARTICULAR ASSISTANCE AND RELIABLE MYSELF AND YOU, I WILL ASSIST IN INVESTING THIS MONEY,I WILL STILL WORK ON THIS REASONS TO YOU AS THE NEXT OF KIN IN THE MOVING.\\nI WILL INFORM YOU SOON ON THE DATE OF ASSISTANCE AND IF YOU ARE PERFECT AND ARE AT LEAST TO A GIRL OF 30 OR 40 YEARS,SIDE MENTALLY ON MYSELF THAT IS,YOU OR THE WHOLE PARTY WILL BE ENTITUTED BY ME IN ORDER TO AVOID THE ABSOLUTE MISDEMOCRATIC REASONABLE AND CONFIDENTIALITY HOPE BE DESIRED IN MYSELF.THIS MONEY WAS DONE BY A STRANGE PERSON WHO WAS CURRENTLY TALKED UP TO HIS PART OF THE TROUBLE,AND THIS PERSON WILL BE FORCER TO KEEP IN VENDOR FOR CONCLUSION OF HIS POSITIVE REASONS FOR INVESTMENT.IT IS YOUR RESPONDING,THEREFORE,THANKS FOR YOUR UNDERSTANDING AND CONSIDERATION.\\nMRS. KARU. MUTA.\\nNB: READ THIS BEFORE YOU DECIDED TO WORK WITH ME.\\nTHIS MONEY GOVERLEDGE WAS CONFISCATED BY A CONFIDENTIAL ASSOCIATION,THE BANK OF AFRICA,THE BANK OF AFRICA (B.O.A).IT IS ALSO UNCLAIMED THAT THE FUNDS GOVERLEDGE AND EXECUTIVE OFFICER OF THIS FUND.\\nMY PROPOSAL FOR YOU NOW IS TO INDICATE YOUR POSITIVE FEELINGS FOR ME.\\nTHE FUNDS WILL BE EXECUTED BY A BANK OF AFRICA AND THE BANK OF AFRICA.\\nYOU ARE BOTH A PARTY AND WORKING FAMILIES. I WANT TO ASSIST YOU RECEIVING THIS MONEY. THE REAL DEAL WILL BE AND I WILL DISCUSS REQUIREMENTS BASED ON THE SAME AS FOR THE MONEY MADE MYSELF.YOU WILL GET TO PAY THE MONEY IN THE MOST AND ONLY ACCURATELY\\nREPLIANCE THE MONEY TO THE BANK OF AFRICA OR BANK OF AFRICA BONDING ACCOUNT. THE MONEY WILL BE BENT FOR MY PARTNER'S PART,THIS MONEY WILL GO INTO A SUBSE\n",
            "\n",
            "[320 | 444.29] loss=1.39 avg=2.14\n",
            "[340 | 469.43] loss=1.42 avg=2.10\n",
            "[360 | 494.62] loss=1.92 avg=2.09\n",
            "[380 | 519.77] loss=1.98 avg=2.08\n",
            "[400 | 544.91] loss=1.70 avg=2.06\n",
            "======== SAMPLE 1 ========\n",
            " reach I got to know you and like tell you that I am really sorry that I have so late got to know you better I just want to use you to tell people that you are late and i will tell you when i come over to your country.\\r\\nBest Regards,\\r\\nMr.Isaac O. Williams.\\r\", \"From Mr.Isaac O. Williams\\nDear Friend,\\nI am looking for someone who can serve as my partner as soon as i receive your reply.My name is Mr.Isaac O. Williams the son of Dr.Williams from the Republic of Congo. I got information about your late father (a man named Mr.Williams) from the Internet. I believe someone will come over with a claim for this funds.\\nMr.Isaac O. Williams died in the plane crash leaving only Mr.Williams with no memory of the crash. I have been given the sole documentative rights to the funds and the\\nwill henceforth be with you.\\nI will be contacting you with a detailed account of my family history and where Mr.Williams lived as well as any information which could be used in making a claim for the funds. We are going to contact you through this medium to facilitate a deal on how to move this money into your country. We are going to place an absolute priority on you and let you make your choice based on what I received from you.I want this fund to be shared amongst the charity organisations which have arrived to assist with Mr.Williams.\\nAllocation of the fund as this is a huge fund will need some arrangement as to be shared equally between us. There is no risk involved in this transaction because we have no knowledge of each other. The funds will be transferred without a hitch and the only hitch is that the beneficiary of the funds will die in the plane crash leaving nobody behind for the claim.I am waiting for your detailed information and I will send to you the complete bank statement of the deceased and the amount of money as well as any vital information. You have until 17th January 2000 for claim.\\nI look forward to your reply.\\nYours faithfully,\\nMr.Isaac O. Williams.\\n____________________________________________________\\n Get the latest from TODAY at http://www.yelp', 'URGENT AND CONFIDENTIAL\\nDEAR FRIEND,\\r\\nMY DEAR BELOVED  TO WRITE TO YOU THIS LETTER IN GOD'S PRIZE. I ESCAPED WITH MY WIFE AND CHILDREN  OUT OF SIERRA LEONE TO CHILE TO STUDY THE SITUATION TILL WHEN THINGS GET BETTER, TEN START TO GET BETTER.\\r\\nTHE FIRST OF ITS kind IN AFRICA WAS THE YUITROLE ESCAPED IN THE MUSEUM OF THE DAY IN THE SIXTH SIXSTAIN BOND HERE IN FRANCE ON 8TH JULY, 1984 WITHOUT ANY MIND INTENDING FROM ANY OF MY\\r\\nPRINCIPLES OR CONSORTIENTS.\\r\\nTHANKS TO YOU FOR THE INFORMATION CONCERNING ME.\\r\\nTHE SAME EVENTED IN GHANA DECEMBER 21, 1985. MY FATHER WAS NOT FROM GHANA BUT WAS ALSO FROM MOBUTU, IN ABIDJAN, COTE D'IVORE LAGOS (Ivory Coast).\\r\\nTHE SUM OF ($8.5 MILLION) IS THE LATE MR YUITROLE SANKI OF SWITZERLAND, WHO WORKS IN DHA'S SHORT BEHALF.\\r\\nSOMEHOW I WAS ASKING FOR A COMPANY BY MY LATE FATHER WHO HAD LOST HIS MONEY IN A HOLLANDING MUSEUM IN OUR COUNTRY BOND AS A BUSINESSMAN.\\r\\nMY FATHER LOVED MY CHARGE. HE SAID THE BUSINESS WAS NEEDED BY THE BOND. SO I AND MY WIFE AND CHILDREN WENT TO GHANA TO STUDY THE SITUATION ABROAD DUE TO THE INVESTIGATIONS OF AFRICAN RESERVE BOND (CARE TO INVEST.) AS WE GAVE THIS PROJECT AVAILABLE TO SOME OF OUR LATE HUSBAND OR FOREIGN INVESTORS WHO WORKING IN THAT BUSINESS ARE INVESTIGATING FOR THE FINANCE FUND AS WE WANT THEM TO BUY THE MONEY AND HAVE IT COME ACROSS FOR SAFETY.\\r\\nPLEASE I WILL PUT YOU IN THE PICTURE OF THIS BUSINESS SO THAT YOU CAN SEE \\r\\nTHE COMPLETE MUTUALIZATION OF THIS BUSINESS.\\r\\nTHANKS FOR YOUR COOPERATION.\\r\\\n",
            "\n",
            "[420 | 580.22] loss=1.66 avg=2.04\n",
            "[440 | 605.36] loss=1.62 avg=2.02\n",
            "[460 | 630.54] loss=1.10 avg=1.97\n",
            "[480 | 655.73] loss=1.88 avg=1.97\n",
            "[500 | 680.85] loss=1.86 avg=1.96\n",
            "Saving checkpoint/se/model-500\n",
            "WARNING:tensorflow:From /tensorflow-1.15.2/python3.7/tensorflow_core/python/training/saver.py:963: remove_checkpoint (from tensorflow.python.training.checkpoint_management) is deprecated and will be removed in a future version.\n",
            "Instructions for updating:\n",
            "Use standard file APIs to delete files with this prefix.\n"
          ],
          "name": "stdout"
        }
      ]
    },
    {
      "cell_type": "code",
      "metadata": {
        "id": "UVRpTbbDl3aV"
      },
      "source": [
        "gpt2.generate_to_file(sess, destination_path = se_gen_file, model_name='124M',                      \n",
        "                      length = se_avg_length,\n",
        "                      temperature = 0.8, nsamples = 200, batch_size = 20)"
      ],
      "execution_count": null,
      "outputs": []
    },
    {
      "cell_type": "markdown",
      "metadata": {
        "id": "Uw6Fq3ZIb2YK"
      },
      "source": [
        "## Phishing Model\n"
      ]
    },
    {
      "cell_type": "code",
      "metadata": {
        "colab": {
          "base_uri": "https://localhost:8080/"
        },
        "id": "LmXKu13-0qo-",
        "outputId": "dc19af20-a84d-44a5-f46e-d7123ace870c"
      },
      "source": [
        "file_name = \"phish_train.txt\"\n",
        "sess = gpt2.start_tf_sess()\n",
        "\n",
        "gpt2.finetune(sess,\n",
        "              dataset=file_name,\n",
        "              model_name='124M',\n",
        "              steps=500,\n",
        "              restore_from='fresh',\n",
        "              run_name='phish',\n",
        "              print_every=20,\n",
        "              sample_every=100,\n",
        "              save_every=250\n",
        "              )"
      ],
      "execution_count": null,
      "outputs": [
        {
          "output_type": "stream",
          "text": [
            "WARNING:tensorflow:From /usr/local/lib/python3.7/dist-packages/gpt_2_simple/src/sample.py:17: where (from tensorflow.python.ops.array_ops) is deprecated and will be removed in a future version.\n",
            "Instructions for updating:\n",
            "Use tf.where in 2.0, which has the same broadcast rule as np.where\n",
            "Loading checkpoint models/124M/model.ckpt\n",
            "INFO:tensorflow:Restoring parameters from models/124M/model.ckpt\n"
          ],
          "name": "stdout"
        },
        {
          "output_type": "stream",
          "text": [
            "\r  0%|          | 0/1 [00:00<?, ?it/s]"
          ],
          "name": "stderr"
        },
        {
          "output_type": "stream",
          "text": [
            "Loading dataset...\n"
          ],
          "name": "stdout"
        },
        {
          "output_type": "stream",
          "text": [
            "100%|██████████| 1/1 [00:06<00:00,  6.51s/it]\n"
          ],
          "name": "stderr"
        },
        {
          "output_type": "stream",
          "text": [
            "dataset has 1154205 tokens\n",
            "Training...\n",
            "[20 | 31.63] loss=2.80 avg=2.80\n",
            "[40 | 56.80] loss=2.39 avg=2.59\n",
            "[60 | 81.94] loss=2.72 avg=2.64\n",
            "[80 | 107.14] loss=2.31 avg=2.55\n",
            "[100 | 132.32] loss=2.29 avg=2.50\n",
            "======== SAMPLE 1 ========\n",
            " Joseph is here for the fun. I hope you will treat me quite good.I will be expecting you to contact me in my private email address, at this address and the phone number that you provided.\\r\\nPlease do consider this a very big deal to you, I can't wait to hear from you as soon as possible. \\r\\nBest regards,\\r\\nDr. Alex Toussi.\\r', \"FROM THE DESK OF MICHAEL JONES WHO CARRYED URGENTLY FOUR HUNDRED AND TWENTY DOLLARS IN OUR COUNTRY.\\nDear Sir,\\nPlease.\\r\\nI AM SUSAN JONES,\\r\\nTHE CONFIDENTIAL OFFICE DESK OF MR. ROBERT MOHM. I HAVE DUTY DISCOVERED MY HUSBAND AT THE SAME TIME IN MY CUSTOMER\\r\\nDEAR BOY,\\r\\nTHE DIRECTOR OF MY CAR\\r\\nDEAR HUSBAND IS HAVING AN OVER-EXAMINED DUTY, WHICH\\r\\nHAVE BEEN TOLD TO GET INTO THE TRACING COOPERATION WITH THE TRADING AND\\r\\nCUSTOMER SERVICE, WHICH I HAD THE OTHER DAY, AND NEXT OF\\r\\nTURN AS THE CONFIDENTIAL OVERSEER, TO APPLY FOR ITS OWN INVESTMENT, I\\r\\nDURED A DECEMBER 2003 BUSINESS ADDRESS TO DETAILS AND TO\\r\\nyou, THE TRANSACTION APPLIES TO YOU AFTER YOU SEND TO ME A WRITING FOR\\r\\nTHE SUM OF NINJOYING THE TRANSACTION UNTIL YOU WRITE TO\\r\\nto THE DESK. AFTER I WRITE TO YOU, THE TRANSACTION\\r\\nMAY BE REMITTED TO YOU AS UNTIL YOU REQUEST\\r\\non MONEY FOR ACCOUNT AS THE REQUIRED PAYMENT FOR THIS TRANSACTION.\\r\\nI AM HONORING YOU TO CONTACT ME AS A MEMBER OF MY OFFICE. WHICH I HIGHLY\\r\\nFROM,\\r\\nMR. ROBERT MOHM,\\r\\nHONOR ME.\\r', 'PRIVATE SUM(FIFTEEN MILLION THOUSAND US DOLLARS)\\nBILL AND CONFIDENTIAL\\n\\r\\nINTRODUCTION\\r\\nMEXICAN PROPOSITION\\r\\nTRANSACTION DEPOSIT(TMPP) \\r\\nOF INVERTED PRIVATE SUM AT\\r\\nMEXICAN CRIME DEPARTMENT.\\r\\nIT IS HAPPENING AS WE LOOK FORWARD.\\r\\nIN THE MATTER OF\\r\\nCRIMINAL INVESTMENT IN THIS MEXICAN CRIME.\\r\\n\\r\\nINTRODUCTION \\r\\nThis transaction was carried out by\\r\\nI AND OUR REPRESENTATIVE, MRS. PETROL BASHIM, THE GENERAL ATTORNEY BECAME THE WRITTEN CONTRACTOR TO ME.\\r\\nI BEEN REQUIRED TO BE THE ASSISTANT TO MAKE BILL FROM YOU AS SOON AS WE\\r\\nWITHIN YOUR BANK ACCOUNT, WHICH I MAY HAVE DIFFERED IN THE\\r\\nPRICE AND CONTACT FROM TO US. THIS SUM\\r\\nIS ONLY ONE HUNDRED AND TWENTY DOLLARS.\\r\\nTHIS MONEY WAS\\r\\nAGREED FOR\\r\\nFULL SIX YEARS AT THE LIBERAL DOLLAR IN A\\r\\nCITY OF SOUTHERN JAPAN. BECAUSE OF \\r\\nUNFORTUNATUENCE AND RISK, I HAVE HELD BILL AMONG OTHER GOVERNMENT\\r\\nMANAGEMENT IN TEL AVIV. AS A TRUSTEE WITH THE GOVERNMENT THEY\\r\\nCOULD HAVE GIVEN ME THE PAYMENT IF I DID NOT REACH\\r\\nMY DOLLAR WITH THEM IN A YEAR.\\r\\nYOUR SINCE THEY DIED URGENTLY ON MY DECEASED\\r\\nPAYMENT, THEY WANTED TO TRANSFER IT OUT FOR THE NEXT OF\\r\\nLEAST \\r\\nNEXT.\\r\\nI AM ASSISTANCE FROM THE GOVERNMENT TO MAKE THIS MONEY TRANSFER\\r\\nABOARDLESS AND FAST AS A THING BUT I AM SINCERELY BECAUSE I DO\n",
            "\n",
            "[120 | 169.37] loss=2.02 avg=2.42\n",
            "[140 | 194.55] loss=2.29 avg=2.40\n",
            "[160 | 219.74] loss=1.61 avg=2.30\n",
            "[180 | 244.92] loss=1.56 avg=2.21\n",
            "[200 | 270.11] loss=1.88 avg=2.18\n",
            "======== SAMPLE 1 ========\n",
            " got some \\nbenefits that would help me to take advantage of my \\nbeneficiary.\\nI will like the name of your bank where you will provide the \\nnecessary documents including your private telephone and fax \\nnumber.There are two options of receiving the fund on \\nthe \\nnext day when the money gets into your bank account.\\nThe first option is you can use the private fax  \\nnumber provided to you and send to my bank the fax the \\nname and address the beneficiary or family you will be using for \\nbenefit of the family.\\nThe second option is that you can use the bank    to \\nsecure the  fund pending the acceptance of the payment \\ncountries in your Bank. \\nSince you are the beneficiary of the fund , we can transfer \\nthe fund into your account without any delay. \\nYou will also send an  acknowledgement of the fund which we will \\nrequire from you as the family member after we have deposited the \\nfund in your Account. \\nIf you are not sure what \\nthe bank is for, ask me to introduce you as I dont  \\nhave any other relatives or bank accounts in my country. We can \\nshare\\nThe fund for the immediate  future benefit of our family members. \\nI want you to know that this is a risk free transaction and I \\nhave the utmost confidence you will act fast  \\nand trust me. I have an attorney in-hand who will prepare all \\nnecessary documents and letter of probate \\nconfirmation for us. \\nLet me assure you that you have nothing   that would hinder me from \\nimmediately \\nthe money because I am the only son of the deceased. \\nThe banking laws in my country stipulates that if any \\nforeign account is opened on foreign account, the \\ndeceased person will \\nbe entitled to all \\nbeneficiary's share.I will like you to inform me of the \\nfirst 5 of the next  business days when this money will be \\ntransferred into your Bank account. I shall  \\nalso instruct my lawyer to give me the text of the \\ntransaction and write you all the necessary info \\nto enable me commit the transaction, this is what  \\non of my  business friends  have  said to me.\\nFirst I want you to \\nprepare us all  before we can proceed any further,  \\na lot of money here  is in my bank. I will send   a  fax number  \\nnumber for  information of the account  and an account \\nnumber which shall \\nbe filled  immediately  after the fund comes in your \\nBank.I wish you would not entertain any atom of fear  \\non  knowing that you will not die under a  \\nbad bank  account. \\nI got your telephone number    and fax number  \\nalong with  your information  so that the attorney will \\nlook for you. I shall also instruct my  lawyer \\nin  how to bind  the   \\ndisbursement  and we shall  re-bind the    \\nnecessary     clarifications so as not to jeopardize the \\nproceeding of this business.  \\nYou shall \\nbe  entitled to 20% of the total  \\nfund going to you, for your assistance   \\nI  am   seeking your  assistance to  negotiate with your \\ncorner    for the transfer  in a form that would \\nto work  with you.     You can     contact    your   beneficiary  by                                  \\n                                         \\n                                      \\n                               (THE DANGER \\nNIGHTLY IN THIS COUNTRY) I want                                                  The                  \n",
            "\n",
            "[220 | 305.56] loss=1.24 avg=2.09\n",
            "[240 | 330.73] loss=1.68 avg=2.05\n",
            "Saving checkpoint/phish/model-250\n",
            "[260 | 359.01] loss=1.40 avg=2.00\n",
            "[280 | 384.27] loss=1.29 avg=1.94\n",
            "[300 | 409.43] loss=1.71 avg=1.93\n",
            "======== SAMPLE 1 ========\n",
            " United Bank for Africa and Caribbean \\nBank.\\nI am the only son of CIVIL SERVANT MR MYSUR MORSELL MORSELL MORSELL OF \\nINDIANS, I AM WILLING TO GET A FOREIGN PARTNER TO ENABLE ME REQUIRE A \\nUPCOMING IN CUSTODY AS BELONGING TO DETAILS OF MY DEATH AS SO THE AFTER \\nREASONS I WILL NEED YOUR COOPERATION TO GET THIS MONEY INTO  YOUR  ACCOUNT.\\nTHE FOLLOWING INFORMATION IS NECESSARY FOR THIS TRANSACTION:\\n1) YOUR PERSONAL PHONE AND FAX NUMBER/DETAILS.\\n2) YOUR EMAIL ADDRESS WHERE IN THE MONEY WILL BE TRANSFERED TO \\nALLOCATION.\\n3) YOUR ACCOUNT INFORMATION.\\n4) YOUR FULL NAME BECAUSE IT WILL BE INTENT TO CLAIM \\nTO A FOREIGN COMPANY FOR THE PURPOSE OF TRANSFER OF THIS FUND.\\nI KNOW THAT THIS TRANSACTION WOULD BE CONFIDENTIAL AND \\nRESTRICTIVE BUT I NEED YOUR COMPLETE FOREIGN TRANSACTION INFORMATION TO\\nFUDGE ME TO SEELE IN THIS TRANSACTION.\\nYOUR WISH LIST AND THE FACT THAT YOU ARE WILLING TO RE-INVEST \\nIN THIS TRANSACTION.\\nYOUR PRIVATE ROLE IN THIS TRANSACTION MUST BE SENT TO MY FOREIGN \\nPROTICE SECTION \\n1) YOUR CONTACT TELEPHONE AND FAX NUMBER.\\n2) YOUR AGE.\\n3) YOUR OCCUPATION.\\n4) YOUR OCCUPATION BECAUSE YOU ARE WILLING TO COMMENCE A FOREIGN \\nCOMMERCIAL TRANSACTION THAT WILL FALL\\nALLOCATION WITHOUT ANY SUCCESS.\\nI HAVE A SECURITY COMPANY IN CHIEF THAT I WILL USE TO CARRY OUT \\nTHIS MONEY AFTER I HAVE COMPLETED THIS OFFER IN YOUR ACCOUNT.\\nBUT I NEED YOU TO REMIND ME INSTRUCTING YOU TO LOOK FOR A \\nRELIABLE CATEGORY AND INTERNATIONAL WAY OF TRANSFERING US$ 25 M \\n(Twenty five million United States \\nDollars).\\nI GOT YOUR RESPONSE FROM OUR CATEGORY IN BURKINA FASO DOKU.\\nTHANK YOU IN advance for your cooperation.\\nYOURS SINCERELY, MYSUR MORSELL MORSELL OF INDIANS BANK.\\nPLEASE REPLY TO MY FULL EMAIL: mysurmorsonb17@yahoo.com\\nI WILL BE LOOKING FOR YOUR ATTENTION SO THAT I WILL PROMISE YOU DUE SESSION TO US.\\nPLEASE I WOULD NOT HAVE DONE SUCH AMOUNT IN CONFIDENCIES IN MY OCCUPATION.\\nTHEREFORE, IF YOU ARE INTERESTED, PLEASE AS SOON AS REPLY ME TO\\nME.SHE SINCERELY.\\nPLEASE EMAIL ME, MYSUR MORSELL MORSELL OF INDIANS.\\nPLANE CRASH WEB SITE,http://news.bbc.co.uk/1/hi/world/europe/859479.stm. \\nTHESE ARE STIPPLES, YOU WILL HAVE TO FACE YOUR CONFIDENCE TO ENABLE \\nYOU THIS BUSINESS.THIS IS A SAFE BUSINESS BUT WITH A LONG SECURITY \\nCOMPATIBILITY TO A LOT OF PEOPLE WHO HAS DEATHED WITHOUT ANY CHAINING, \\nAND SINCE WE ARE SINCE WE HAVE NEVER EARNED AN ACCOUNT ON,\\nOUR REFUSAL TO THIS BUSINESS IS TO BEING POSSIBLE. SINCE WE ARE \\nRATED TO OCCUPATION AND ODDITIES, WE HAVEN'T BEEN OVERSEASALLY RELATIVELY, UNTIL WE EARN AN OLD \\nBUSINESS OPPORTUNITY.\\nBUT BECAUSE WE CANNOT TRANSFER, IT IS OUR POSITION TO BE THE CUSTOMER \\nTHESE WE ARE OILING BUSINESSES IS TO KNOW WHEN SOMEONE GOES TO ENABLE \\nTHE FAMILY.\\nTHE WHOLE PROBLEM IS THAT WE DO NOT WANT US TO KNOW ABOUT YOU, WE JUST \\nWILL LET YOU KNOW IF YOU ARE INTERESTED IN THIS BUSINESS AND WE WILL COMMENCE ACCORDINGLY \\nBECAUSE WE ARE THE ONLY FAMILY BESECT TO KNOW THIS OLD\n",
            "\n",
            "[320 | 444.86] loss=1.24 avg=1.88\n",
            "[340 | 470.02] loss=1.60 avg=1.86\n",
            "[360 | 495.20] loss=1.59 avg=1.85\n",
            "[380 | 520.42] loss=2.22 avg=1.87\n",
            "[400 | 545.60] loss=1.29 avg=1.84\n",
            "======== SAMPLE 1 ========\n",
            " for the sake of self. We don't want our children to have to go through this.\\r\\nPlease, to get back to me in this particular matter as you can confirm it yourself by all that you can email me at\\r\\nbarr.kimbachet@myway.com\\r\\nI await your urgent response.\\r\\nMr. KINDITANI.\\r\\n___________________________________________________________________________\\nMail sent from WebMail service at PHP-Nuke Powered Site\\n- http://yoursite.com', \"GREAT REPORT TO YOU FROM   JOSEPH IKOYAMA\\nPRIVATE E-MAIL: josephan1koyama@walla.com\\nDear Friend,\\nI am Dr. josephan ikoyama; the head of private banking\\noffice here in my department.On request for a private assistance to invest our share in new products and services here\\nin Thailand\\nin Asia and abroad.\\nBefore the U.S visit, I will like to send to you a very confidential telephone number and \\ndoubtless your quick response is needed. This business will be very convenient for all to share this beneficial.\\nBest Regards,\\nDr. josephan ikoyama\\n- josephan ikoyama@walla.com\\n\\nTEL:007680531067892\\ndirect:+447380487928\\n    [UPDATING MESSAGE]\\nDear Friend,\\nI am Dr. josephan ikoyama; the head of private banking\\noffice here in my department. On request for a private assistance to invest our share in new products and services here\\nin Thailand\\nin Asia and abroad.\\nBefore the U.S visit, I will like to send to you a very confidential telephone number and \\ndoubtless your quick response is needed. This business will be very convenient for all to share this beneficial.\\nBest Regards,\\nDr. josephan ikoyama\\n- josephan ikoyama@walla.com\\n\\nTEL:007680531067892\\n  [UPDATING MESSAGE]\\nDear Friend,\\nI am Dr. josephan ikoyama; the head of private banking\\noffice here in my department. On request for a private assistance to invest our share in new products and services here\\nin Thailand\\nAsian and Central Asia.\\nBefore the U.S visit, I will like to send to you a very confidential telephone number and \\ndoubtless your quick response is needed. This business will be very convenient for all to share this beneficial.\\nBest Regards,\\ndr. josephan ikoyama\\n- josephan ikoyama@walla.com\\n\\ndr.        [UPDATING MESSAGE]\\nThank you\\nDr. Josephan Ikoyama\\n----------------------------------------------------------------------------\\nDr. josephan ikoyama\\nThe Head of Payment Office.\\nThailand.\\nwww.tamio-online.com\\n----------------------------------------------------------------------------\\nDr. josephan ikoyama\\nEmail:josephani54@walla.com\\nFax:+234-1-759553676\\n----------------------------------------------------------------------------\\nEmail:josephani54@walla.com\\n----------------------------------------------------------------------------\\nwww.tamio.com\\n----------------------------------------------------------------------------\\nTel: +234-1-759553676\\n----------------------------------------------------------------------------\\nwww.tamio.com\\n----------------------------------------------------------------------------\\n----------------------------------------------------------------------------\\nEmail: josephaniahaphan@walla.com\\n+234-1-759553676\\n----------------------------------------------------------------------------\\nwww.tamio.com\\n----------------------------------------------------------------------------\\n----------------------------------------------------------------------------\\n\\nThe Head Of Payment Office.\\nTAMIO.\\nwww.tamio-online.com\\n----------------------------------------------------------------------------\\n----------------------------------------------------------------------------\\nPlease, to get in touch with me by e-mail, fax or phone number,\\n  josephan ikoyama\\nEmail:\\n----------------------------------------------------------------------------\\nPhone: -234-1-759553676\\nFax:\\n234-1-759553676\\n----------------------------------------------------------------------------\\n----------------------------------------------------------------------------\\nDr. josephan ikoyama\\nFax:234-1-759553676\\n----------------------------------------------------------------------------\\nEmail:\\n----------------------------------------------------------------------------\\n-------------------------------------\\nT\n",
            "\n",
            "[420 | 581.07] loss=1.05 avg=1.80\n",
            "[440 | 606.25] loss=1.66 avg=1.79\n",
            "[460 | 631.51] loss=1.11 avg=1.76\n",
            "[480 | 656.69] loss=1.32 avg=1.74\n",
            "[500 | 681.91] loss=1.14 avg=1.71\n",
            "Saving checkpoint/phish/model-500\n",
            "WARNING:tensorflow:From /tensorflow-1.15.2/python3.7/tensorflow_core/python/training/saver.py:963: remove_checkpoint (from tensorflow.python.training.checkpoint_management) is deprecated and will be removed in a future version.\n",
            "Instructions for updating:\n",
            "Use standard file APIs to delete files with this prefix.\n"
          ],
          "name": "stdout"
        }
      ]
    },
    {
      "cell_type": "code",
      "metadata": {
        "id": "KWJ8toSa00_g"
      },
      "source": [
        "gpt2.generate_to_file(sess, destination_path = phish_gen_file, model_name='124M',\n",
        "                      length = ph_avg_length, \n",
        "                      temperature = 0.8, nsamples = 200, batch_size = 20)"
      ],
      "execution_count": null,
      "outputs": []
    },
    {
      "cell_type": "markdown",
      "metadata": {
        "id": "1GF_7ZqPb2l3"
      },
      "source": [
        "## Malware Model\n"
      ]
    },
    {
      "cell_type": "code",
      "metadata": {
        "colab": {
          "base_uri": "https://localhost:8080/"
        },
        "id": "RI92FAJqc4Gk",
        "outputId": "16be4ebe-f188-48ee-bb8c-7fb77065ceb7"
      },
      "source": [
        "# malware model finetune\n",
        "sess = gpt2.start_tf_sess()\n",
        "\n",
        "gpt2.finetune(sess,\n",
        "              dataset=\"mal_train.txt\",\n",
        "              model_name='124M',\n",
        "              steps=500,\n",
        "              restore_from='fresh',\n",
        "              run_name='mal',\n",
        "              print_every=25,\n",
        "              sample_every=200,\n",
        "              save_every=50\n",
        "              )"
      ],
      "execution_count": null,
      "outputs": [
        {
          "output_type": "stream",
          "text": [
            "WARNING:tensorflow:From /usr/local/lib/python3.7/dist-packages/gpt_2_simple/src/sample.py:17: where (from tensorflow.python.ops.array_ops) is deprecated and will be removed in a future version.\n",
            "Instructions for updating:\n",
            "Use tf.where in 2.0, which has the same broadcast rule as np.where\n",
            "Loading checkpoint models/124M/model.ckpt\n",
            "INFO:tensorflow:Restoring parameters from models/124M/model.ckpt\n"
          ],
          "name": "stdout"
        },
        {
          "output_type": "stream",
          "text": [
            "\r  0%|          | 0/1 [00:00<?, ?it/s]"
          ],
          "name": "stderr"
        },
        {
          "output_type": "stream",
          "text": [
            "Loading dataset...\n"
          ],
          "name": "stdout"
        },
        {
          "output_type": "stream",
          "text": [
            "100%|██████████| 1/1 [00:00<00:00,  1.76it/s]\n"
          ],
          "name": "stderr"
        },
        {
          "output_type": "stream",
          "text": [
            "dataset has 64312 tokens\n",
            "Training...\n",
            "[25 | 38.74] loss=2.38 avg=2.38\n",
            "[50 | 70.20] loss=1.07 avg=1.72\n",
            "Saving checkpoint/mal/model-50\n",
            "[75 | 104.92] loss=1.15 avg=1.53\n",
            "[100 | 136.37] loss=0.81 avg=1.34\n",
            "Saving checkpoint/mal/model-100\n",
            "WARNING:tensorflow:From /tensorflow-1.15.2/python3.7/tensorflow_core/python/training/saver.py:963: remove_checkpoint (from tensorflow.python.training.checkpoint_management) is deprecated and will be removed in a future version.\n",
            "Instructions for updating:\n",
            "Use standard file APIs to delete files with this prefix.\n",
            "[125 | 170.28] loss=0.92 avg=1.26\n",
            "[150 | 201.72] loss=0.36 avg=1.10\n",
            "Saving checkpoint/mal/model-150\n",
            "[175 | 235.90] loss=0.18 avg=0.97\n",
            "[200 | 267.36] loss=0.05 avg=0.85\n",
            "Saving checkpoint/mal/model-200\n",
            "======== SAMPLE 1 ========\n",
            " not\\nknowingly or intentionally sending funds or goods or services to any bank or other financial institution in the euro area. 2006\\nThe Financial Conduct\\nsystem shall handle this transaction with utmost confidentiality but note \\nthat your identity or the location of the payment\\nservice can not be determined until after the completion\\nto which the institution presents the appropriate documents. \\nAfter which, the institution shall deal with you ideally with details\\nover which you are neither paid back nor replaced. Your\\nremuneration depends on the nature of your fault. \\nPlease contact us immediately via email at: info[at]albino.com or phone or fax. If at this stage you are\\ninterested in this project, kindly guide me to the email address * \\npermalink[ at the end of the email]\\nof your interest. Please also ensure that this contact is strictly confidential\\nwith regard to each other. \\nBest regards, \\nAlbino. \\n{For\\nadditional assistance, please refer to this\\nletter_from_nlRC[.]on to confirm your interest. \\nPlease ensure your  full names and address are also shown if\\nexercise_02@mediacentre.com and\\nguson@juno.com does not contain an ordinary low\\npatience for kindness.\\nOne who instills trust and trust in others, feeling entitled to receive\\nboth\\namounts of money without any fear of retribution, feeling confident without any\\npatience, and showing integrity by showing no fear of\\nconducals.\\nA true friend.\\n{For any further assistance, please reply using the above\\nurl\\nwith the subject line जिरा लहमो              YES\\nYour swift response is anticipated. \\nBest regards, \\nThailand Chamber of Commerce\\n{U.S.A.} March 31, 2001.\\n[E-mail:mch2006@ecplaza.net]\\n\\t\\t\\nTEL: +1-781-699-049-office\\n\\t\\t\\nREAL TRANSACTION AS OF NOW - PLEASE TAKE A LOOK AT THIS\\nHEADLINE FOR IT SAYS ALL.\\nTRANSFER NOTES & CONCLUSIONS:\\n1. \\nDeposit or borrow money from another bank or other asset management service. \\nThough not strictly legal, asset management processes more cases with fast response\\nthan any other type of application. \\nSince the transfer of valuables or property, the  bank or other party has issued a safety deposit of amount amount over\\ntakement (in USD). The money is officially transferred to the beneficiary's account\\nwith the assurance that any legal documents (such as | Health Checks ) will be in place at the transfer\\nlevel. The transfer is officially reopened after three years and the beneficiary is deemed to have\\nremained anonymous for all intents and purposes of this transaction.\\nDue to the fact that the victims\\nand their families have been a source of embarrassment to us and the EU\\nimmediately after the EU/UNITA/IMFAR notification\\nand the International community to our grief. We have decided to\\nseek after allies in this crisis through the\\nfinancial means we have at our disposal. This involves\\ntransfer of funds between banks and law enforcers; I\\nhave therefore requested your assistance in transferring\\nthis money in a manner that will render my family's lives considerably longer\\nthan anticipated. The request is therefore without risk/consequence.\\nA photocopy of the contract you will provide me for your assistance is\\nneeded to produce a reliable and acceptable alternative to\\nthis contract. It is also highly needed to permit me to\\nreceive this money with transparency and trust. If you are\\ndigested for this package, please destroy this\\nmail as soon as possible after mailing it to you this email\\naddresses:\\nmy own name ,your online email address ,\\nattorney\\nname some colleagues from your choice company please\\nexercise some patience and await my\\nsecond response .\\nI would highly wait for in-depth discussion with you this project, as\\nwe have not yet met personally or had any dealings before contacting you.\\nIn the interest of faithfully enabling you to\\nonetheless receive this valuable assistance, please\\nexercise some patience and take note of my brief\\ncneas\\naddress: root04@ecplaza.net \\nI would prefer that you do not contact me re your last\\nexact telephone and email address because\\nthis is a sensitive project and I cannot\n",
            "\n",
            "[225 | 313.00] loss=0.07 avg=0.76\n",
            "[250 | 344.49] loss=0.06 avg=0.69\n",
            "Saving checkpoint/mal/model-250\n",
            "[275 | 378.49] loss=0.07 avg=0.63\n",
            "[300 | 409.98] loss=0.23 avg=0.59\n",
            "Saving checkpoint/mal/model-300\n",
            "[325 | 444.02] loss=0.05 avg=0.55\n",
            "[350 | 475.48] loss=0.04 avg=0.51\n",
            "Saving checkpoint/mal/model-350\n",
            "[375 | 509.88] loss=0.09 avg=0.48\n",
            "[400 | 541.36] loss=0.05 avg=0.45\n",
            "Saving checkpoint/mal/model-400\n",
            "======== SAMPLE 1 ========\n",
            " forfearable capital\\r\\nfrom this account. After which, the balance of this\\r\\ntransaction will dirigible into the Fund\\r\\nthrough any trusted foreign financial institution that will help us\\r\\nassist in the purchase and subsequent transfer of these lands.\\r\\nThe nature of your assistance is not necessary as the\\r\\ntransaction is non-proprietive and anonymous.\\r\\nThe fund\\r\\nshall be transferred to you legally on the recommendation of my\\r\\nadvisors, without any hitch. If you are\\r\\ninterested in working with me, submit the following form\\r\\n\\t\\tending that you have all the documents, including copies of\\r\\nscr1005enrollment.netpass.za and sbnobilport.fr\\r\\n1). The phone number of the bank where you will be remebering. 2). The email address where you can contact me when I have more information.\\r\\n3). The fax number where you can lodge a claim.\\r\\nWhile promising you a speedy response, I want to remind you that unlike in other\\r\\ndocsions, where the Corporation would not give credit card numbers, as these would be used for any\\r\\nassignment into a personal bank account, which would otherwise exist\\r\\nhere, we are sending you the following notice:\\r\\n\\t-We will be happy to  provide it\\r\\nin the event of non-interest on your part.\\r\\n- 1. E-mail - abdulkareem_21@ecplaza.net\\r\\n2). Name and address of bank where you will be remebering.\\r\\n3). A bank telephone number.\\r\\nBased on your acknowledgement, we wish to use this opportunity to\\r\\nreet you personally and sincerely.\\r\\nMy name is Oliveira John Slimani and we are cordially\\r\\nsisting your attention, we are MEMBERS of the Project CARS Project led by\\r\\nMOTION TO DISCOVER BY MY NOMINATION . We are MEMBERS of the Project CARS\\r\\nand we are asking you to stand as their:\\r\\nother contributing agent and share the fruits of this trade in\\r\\noble but tasty products.\\r\\nFor this, weisselegent proposal, you can serve as our\\r\\nnext of kin and\\r\\nassimilate $30 Million A to B of sugarcane\\r\\nand water into bottle\\r\\njigs or spray bottle jigs. It\\r\\nshall be possible\\r\\nfor you to serve as my next of kin and/or as\\r\\nassimilate $30 Million B of sugarcane and\\r\\ninto                    . Refund of $30 Million A to B Gasoline In\\r\\nbetween Shell and Parisian Gas Works,5\\r\\nbillion dollars\\r\\nwhich was stored away in two\\r\\nmemory foam boxes. During the\\r\\n storage of these boxes, $3.5Million \\r\\nof the                           PRICEPC Limited \\r\\nasplash E+ S+N.A. Contact at +27-78-83-238\\r\\nand ensure\\r\\nthat you get the message through.                 . Ignoring all\\r\\nother email\\r\\ntelephone\\r\\nmails,incustomerservices,regards. Visit\\r\\nhttp://www.chessonfamily.com/chesson/chesson/A+1890_02.html\\r\\n\\r\\n              RE: CONFIDENTIAL\\r\\nDear Sir/Ceo,\\r\\nI am, DR. Antonio Chesson, a 23 years old young man from Cote' Ivoire, the only Son of Late Antonio Chesson (Liberian Minister of Justice 1979 to 1980). It was on this occasion (1980 topload) on December 23rd, 2000, that I discovered your email address. Since then, my family has always been our contact among e-mails.\\r\\nWe deposited the sum of US$ of around USD15,000,000.00(fifteen million United States Dollars)decently\n",
            "\n",
            "[425 | 585.56] loss=0.05 avg=0.43\n",
            "[450 | 617.04] loss=0.04 avg=0.40\n",
            "Saving checkpoint/mal/model-450\n",
            "[475 | 651.02] loss=0.07 avg=0.38\n",
            "[500 | 682.49] loss=0.04 avg=0.36\n",
            "Saving checkpoint/mal/model-500\n"
          ],
          "name": "stdout"
        }
      ]
    },
    {
      "cell_type": "code",
      "metadata": {
        "id": "oY6Bn0sp57X_"
      },
      "source": [
        "mal_gen_file = 'gpt2_gentext_mal_{:%Y%m%d}.txt'.format(datetime.utcnow())\n",
        "\n",
        "gpt2.generate_to_file(sess, destination_path = mal_gen_file, model_name='124M',                      \n",
        "                      length = mal_avg_length,\n",
        "                      temperature = 0.8, nsamples = 200, batch_size = 20)"
      ],
      "execution_count": null,
      "outputs": []
    },
    {
      "cell_type": "code",
      "metadata": {
        "id": "WO26kYS4PYE4",
        "colab": {
          "base_uri": "https://localhost:8080/",
          "height": 34
        },
        "outputId": "5288b222-7a3a-4395-b321-8bf8e11dc3a4"
      },
      "source": [
        "from google.colab import drive\n",
        "drive.mount('/content/drive')\n",
        "\n",
        "gpt2.copy_checkpoint_to_gdrive(run_name='mal')\n",
        "files.download(mal_gen_file)"
      ],
      "execution_count": null,
      "outputs": [
        {
          "output_type": "stream",
          "text": [
            "Drive already mounted at /content/drive; to attempt to forcibly remount, call drive.mount(\"/content/drive\", force_remount=True).\n"
          ],
          "name": "stdout"
        },
        {
          "output_type": "display_data",
          "data": {
            "application/javascript": [
              "\n",
              "    async function download(id, filename, size) {\n",
              "      if (!google.colab.kernel.accessAllowed) {\n",
              "        return;\n",
              "      }\n",
              "      const div = document.createElement('div');\n",
              "      const label = document.createElement('label');\n",
              "      label.textContent = `Downloading \"${filename}\": `;\n",
              "      div.appendChild(label);\n",
              "      const progress = document.createElement('progress');\n",
              "      progress.max = size;\n",
              "      div.appendChild(progress);\n",
              "      document.body.appendChild(div);\n",
              "\n",
              "      const buffers = [];\n",
              "      let downloaded = 0;\n",
              "\n",
              "      const channel = await google.colab.kernel.comms.open(id);\n",
              "      // Send a message to notify the kernel that we're ready.\n",
              "      channel.send({})\n",
              "\n",
              "      for await (const message of channel.messages) {\n",
              "        // Send a message to notify the kernel that we're ready.\n",
              "        channel.send({})\n",
              "        if (message.buffers) {\n",
              "          for (const buffer of message.buffers) {\n",
              "            buffers.push(buffer);\n",
              "            downloaded += buffer.byteLength;\n",
              "            progress.value = downloaded;\n",
              "          }\n",
              "        }\n",
              "      }\n",
              "      const blob = new Blob(buffers, {type: 'application/binary'});\n",
              "      const a = document.createElement('a');\n",
              "      a.href = window.URL.createObjectURL(blob);\n",
              "      a.download = filename;\n",
              "      div.appendChild(a);\n",
              "      a.click();\n",
              "      div.remove();\n",
              "    }\n",
              "  "
            ],
            "text/plain": [
              "<IPython.core.display.Javascript object>"
            ]
          },
          "metadata": {
            "tags": []
          }
        },
        {
          "output_type": "display_data",
          "data": {
            "application/javascript": [
              "download(\"download_6ab1eeb9-7dab-46ea-a236-8760a58cabdd\", \"gpt2_gentext_mal_20210407.txt\", 355842)"
            ],
            "text/plain": [
              "<IPython.core.display.Javascript object>"
            ]
          },
          "metadata": {
            "tags": []
          }
        }
      ]
    },
    {
      "cell_type": "markdown",
      "metadata": {
        "id": "H7JgYOtIcnH3"
      },
      "source": [
        "## Save to Drive"
      ]
    },
    {
      "cell_type": "code",
      "metadata": {
        "id": "3gHS6VIfcskR"
      },
      "source": [
        "gpt2.copy_checkpoint_to_gdrive(run_name='recon')\n",
        "gpt2.copy_checkpoint_to_gdrive(run_name='se')\n",
        "gpt2.copy_checkpoint_to_gdrive(run_name='phish')\n",
        "#gpt2.copy_checkpoint_to_gdrive(run_name='mal')"
      ],
      "execution_count": null,
      "outputs": []
    },
    {
      "cell_type": "markdown",
      "metadata": {
        "id": "fVwLVVEdAqXT"
      },
      "source": [
        "# Generate Text From Trained Model"
      ]
    },
    {
      "cell_type": "markdown",
      "metadata": {
        "id": "ClJwpF_ACONp"
      },
      "source": [
        "After you've trained the model or loaded a retrained model from checkpoint, you can now generate text. `generate` generates a single text from the loaded model."
      ]
    },
    {
      "cell_type": "code",
      "metadata": {
        "id": "0-LRex8lfv1g",
        "colab": {
          "base_uri": "https://localhost:8080/",
          "height": 16
        },
        "outputId": "c659b062-6b3d-4d82-80e2-3ede0d6d3dcd"
      },
      "source": [
        "# may have to run twice to get file to download\n",
        "files.download(recon_gen_file)\n",
        "files.download(se_gen_file)\n",
        "files.download(phish_gen_file)"
      ],
      "execution_count": null,
      "outputs": [
        {
          "output_type": "display_data",
          "data": {
            "application/javascript": [
              "\n",
              "    async function download(id, filename, size) {\n",
              "      if (!google.colab.kernel.accessAllowed) {\n",
              "        return;\n",
              "      }\n",
              "      const div = document.createElement('div');\n",
              "      const label = document.createElement('label');\n",
              "      label.textContent = `Downloading \"${filename}\": `;\n",
              "      div.appendChild(label);\n",
              "      const progress = document.createElement('progress');\n",
              "      progress.max = size;\n",
              "      div.appendChild(progress);\n",
              "      document.body.appendChild(div);\n",
              "\n",
              "      const buffers = [];\n",
              "      let downloaded = 0;\n",
              "\n",
              "      const channel = await google.colab.kernel.comms.open(id);\n",
              "      // Send a message to notify the kernel that we're ready.\n",
              "      channel.send({})\n",
              "\n",
              "      for await (const message of channel.messages) {\n",
              "        // Send a message to notify the kernel that we're ready.\n",
              "        channel.send({})\n",
              "        if (message.buffers) {\n",
              "          for (const buffer of message.buffers) {\n",
              "            buffers.push(buffer);\n",
              "            downloaded += buffer.byteLength;\n",
              "            progress.value = downloaded;\n",
              "          }\n",
              "        }\n",
              "      }\n",
              "      const blob = new Blob(buffers, {type: 'application/binary'});\n",
              "      const a = document.createElement('a');\n",
              "      a.href = window.URL.createObjectURL(blob);\n",
              "      a.download = filename;\n",
              "      div.appendChild(a);\n",
              "      a.click();\n",
              "      div.remove();\n",
              "    }\n",
              "  "
            ],
            "text/plain": [
              "<IPython.core.display.Javascript object>"
            ]
          },
          "metadata": {
            "tags": []
          }
        },
        {
          "output_type": "display_data",
          "data": {
            "application/javascript": [
              "download(\"download_90ec5b19-354d-4d23-8707-31313be1be88\", \"gpt2_gentext_recon_20210407.txt\", 334886)"
            ],
            "text/plain": [
              "<IPython.core.display.Javascript object>"
            ]
          },
          "metadata": {
            "tags": []
          }
        },
        {
          "output_type": "display_data",
          "data": {
            "application/javascript": [
              "\n",
              "    async function download(id, filename, size) {\n",
              "      if (!google.colab.kernel.accessAllowed) {\n",
              "        return;\n",
              "      }\n",
              "      const div = document.createElement('div');\n",
              "      const label = document.createElement('label');\n",
              "      label.textContent = `Downloading \"${filename}\": `;\n",
              "      div.appendChild(label);\n",
              "      const progress = document.createElement('progress');\n",
              "      progress.max = size;\n",
              "      div.appendChild(progress);\n",
              "      document.body.appendChild(div);\n",
              "\n",
              "      const buffers = [];\n",
              "      let downloaded = 0;\n",
              "\n",
              "      const channel = await google.colab.kernel.comms.open(id);\n",
              "      // Send a message to notify the kernel that we're ready.\n",
              "      channel.send({})\n",
              "\n",
              "      for await (const message of channel.messages) {\n",
              "        // Send a message to notify the kernel that we're ready.\n",
              "        channel.send({})\n",
              "        if (message.buffers) {\n",
              "          for (const buffer of message.buffers) {\n",
              "            buffers.push(buffer);\n",
              "            downloaded += buffer.byteLength;\n",
              "            progress.value = downloaded;\n",
              "          }\n",
              "        }\n",
              "      }\n",
              "      const blob = new Blob(buffers, {type: 'application/binary'});\n",
              "      const a = document.createElement('a');\n",
              "      a.href = window.URL.createObjectURL(blob);\n",
              "      a.download = filename;\n",
              "      div.appendChild(a);\n",
              "      a.click();\n",
              "      div.remove();\n",
              "    }\n",
              "  "
            ],
            "text/plain": [
              "<IPython.core.display.Javascript object>"
            ]
          },
          "metadata": {
            "tags": []
          }
        },
        {
          "output_type": "display_data",
          "data": {
            "application/javascript": [
              "download(\"download_0ad5f5c5-5ea9-4091-a047-3a1bef1bb7ec\", \"gpt2_gentext_se_20210407.txt\", 312787)"
            ],
            "text/plain": [
              "<IPython.core.display.Javascript object>"
            ]
          },
          "metadata": {
            "tags": []
          }
        },
        {
          "output_type": "display_data",
          "data": {
            "application/javascript": [
              "\n",
              "    async function download(id, filename, size) {\n",
              "      if (!google.colab.kernel.accessAllowed) {\n",
              "        return;\n",
              "      }\n",
              "      const div = document.createElement('div');\n",
              "      const label = document.createElement('label');\n",
              "      label.textContent = `Downloading \"${filename}\": `;\n",
              "      div.appendChild(label);\n",
              "      const progress = document.createElement('progress');\n",
              "      progress.max = size;\n",
              "      div.appendChild(progress);\n",
              "      document.body.appendChild(div);\n",
              "\n",
              "      const buffers = [];\n",
              "      let downloaded = 0;\n",
              "\n",
              "      const channel = await google.colab.kernel.comms.open(id);\n",
              "      // Send a message to notify the kernel that we're ready.\n",
              "      channel.send({})\n",
              "\n",
              "      for await (const message of channel.messages) {\n",
              "        // Send a message to notify the kernel that we're ready.\n",
              "        channel.send({})\n",
              "        if (message.buffers) {\n",
              "          for (const buffer of message.buffers) {\n",
              "            buffers.push(buffer);\n",
              "            downloaded += buffer.byteLength;\n",
              "            progress.value = downloaded;\n",
              "          }\n",
              "        }\n",
              "      }\n",
              "      const blob = new Blob(buffers, {type: 'application/binary'});\n",
              "      const a = document.createElement('a');\n",
              "      a.href = window.URL.createObjectURL(blob);\n",
              "      a.download = filename;\n",
              "      div.appendChild(a);\n",
              "      a.click();\n",
              "      div.remove();\n",
              "    }\n",
              "  "
            ],
            "text/plain": [
              "<IPython.core.display.Javascript object>"
            ]
          },
          "metadata": {
            "tags": []
          }
        },
        {
          "output_type": "display_data",
          "data": {
            "application/javascript": [
              "download(\"download_b4d28213-b256-4917-a56d-2464cbf38431\", \"gpt2_gentext_phish_20210407.txt\", 347857)"
            ],
            "text/plain": [
              "<IPython.core.display.Javascript object>"
            ]
          },
          "metadata": {
            "tags": []
          }
        }
      ]
    },
    {
      "cell_type": "code",
      "metadata": {
        "colab": {
          "base_uri": "https://localhost:8080/",
          "height": 16
        },
        "id": "QhJ_cwJt64O0",
        "outputId": "b4282a8a-ba40-4b61-ab8a-0fd43bcd6e70"
      },
      "source": [
        "gpt2.copy_checkpoint_to_gdrive(run_name='mal')\n",
        "files.download(mal_gen_file)"
      ],
      "execution_count": null,
      "outputs": [
        {
          "output_type": "display_data",
          "data": {
            "application/javascript": [
              "\n",
              "    async function download(id, filename, size) {\n",
              "      if (!google.colab.kernel.accessAllowed) {\n",
              "        return;\n",
              "      }\n",
              "      const div = document.createElement('div');\n",
              "      const label = document.createElement('label');\n",
              "      label.textContent = `Downloading \"${filename}\": `;\n",
              "      div.appendChild(label);\n",
              "      const progress = document.createElement('progress');\n",
              "      progress.max = size;\n",
              "      div.appendChild(progress);\n",
              "      document.body.appendChild(div);\n",
              "\n",
              "      const buffers = [];\n",
              "      let downloaded = 0;\n",
              "\n",
              "      const channel = await google.colab.kernel.comms.open(id);\n",
              "      // Send a message to notify the kernel that we're ready.\n",
              "      channel.send({})\n",
              "\n",
              "      for await (const message of channel.messages) {\n",
              "        // Send a message to notify the kernel that we're ready.\n",
              "        channel.send({})\n",
              "        if (message.buffers) {\n",
              "          for (const buffer of message.buffers) {\n",
              "            buffers.push(buffer);\n",
              "            downloaded += buffer.byteLength;\n",
              "            progress.value = downloaded;\n",
              "          }\n",
              "        }\n",
              "      }\n",
              "      const blob = new Blob(buffers, {type: 'application/binary'});\n",
              "      const a = document.createElement('a');\n",
              "      a.href = window.URL.createObjectURL(blob);\n",
              "      a.download = filename;\n",
              "      div.appendChild(a);\n",
              "      a.click();\n",
              "      div.remove();\n",
              "    }\n",
              "  "
            ],
            "text/plain": [
              "<IPython.core.display.Javascript object>"
            ]
          },
          "metadata": {
            "tags": []
          }
        },
        {
          "output_type": "display_data",
          "data": {
            "application/javascript": [
              "download(\"download_32c49fb7-520f-4f46-b41e-0bb778c48a34\", \"gpt2_gentext_mal_20210407.txt\", 354263)"
            ],
            "text/plain": [
              "<IPython.core.display.Javascript object>"
            ]
          },
          "metadata": {
            "tags": []
          }
        }
      ]
    },
    {
      "cell_type": "code",
      "metadata": {
        "id": "xk4vOfMV6o_f"
      },
      "source": [
        "recon_gen_file = 'gpt2_gentext_recon_{:%Y%m%d}.txt'.format(datetime.utcnow())\n",
        "se_gen_file = 'gpt2_gentext_se_{:%Y%m%d}.txt'.format(datetime.utcnow())\n",
        "phish_gen_file = 'gpt2_gentext_phish_{:%Y%m%d}.txt'.format(datetime.utcnow())\n",
        "mal_gen_file = 'gpt2_gentext_mal_{:%Y%m%d}.txt'.format(datetime.utcnow())"
      ],
      "execution_count": null,
      "outputs": []
    },
    {
      "cell_type": "markdown",
      "metadata": {
        "id": "zjjEN2Tafhl2"
      },
      "source": [
        "For bulk generation, you can generate a large amount of text to a file and sort out the samples locally on your computer. The next cell will generate a generated text file with a unique timestamp.\n",
        "\n",
        "You can rerun the cells as many times as you want for even more generated texts!"
      ]
    },
    {
      "cell_type": "markdown",
      "metadata": {
        "id": "ig-KVgkCDCKD"
      },
      "source": [
        "# Force-kill VM\n",
        "\n",
        "If the notebook has errors (e.g. GPU Sync Fail), force-kill the Colaboratory virtual machine and restart it with the command below:"
      ]
    },
    {
      "cell_type": "code",
      "metadata": {
        "id": "rIHiVP53FnsX"
      },
      "source": [
        "!kill -9 -1"
      ],
      "execution_count": null,
      "outputs": []
    },
    {
      "cell_type": "markdown",
      "metadata": {
        "id": "wmTXWNUygS5E"
      },
      "source": [
        "# LICENSE\n",
        "\n",
        "MIT License\n",
        "\n",
        "Copyright (c) 2019 Max Woolf\n",
        "\n",
        "Permission is hereby granted, free of charge, to any person obtaining a copy\n",
        "of this software and associated documentation files (the \"Software\"), to deal\n",
        "in the Software without restriction, including without limitation the rights\n",
        "to use, copy, modify, merge, publish, distribute, sublicense, and/or sell\n",
        "copies of the Software, and to permit persons to whom the Software is\n",
        "furnished to do so, subject to the following conditions:\n",
        "\n",
        "The above copyright notice and this permission notice shall be included in all\n",
        "copies or substantial portions of the Software.\n",
        "\n",
        "THE SOFTWARE IS PROVIDED \"AS IS\", WITHOUT WARRANTY OF ANY KIND, EXPRESS OR\n",
        "IMPLIED, INCLUDING BUT NOT LIMITED TO THE WARRANTIES OF MERCHANTABILITY,\n",
        "FITNESS FOR A PARTICULAR PURPOSE AND NONINFRINGEMENT. IN NO EVENT SHALL THE\n",
        "AUTHORS OR COPYRIGHT HOLDERS BE LIABLE FOR ANY CLAIM, DAMAGES OR OTHER\n",
        "LIABILITY, WHETHER IN AN ACTION OF CONTRACT, TORT OR OTHERWISE, ARISING FROM,\n",
        "OUT OF OR IN CONNECTION WITH THE SOFTWARE OR THE USE OR OTHER DEALINGS IN THE\n",
        "SOFTWARE."
      ]
    },
    {
      "cell_type": "markdown",
      "metadata": {
        "id": "1EX2Z3ClAdiy"
      },
      "source": [
        "# Load Trained Model Checkpoint"
      ]
    },
    {
      "cell_type": "code",
      "metadata": {
        "id": "DCcx5u7sbPTD"
      },
      "source": [
        "gpt2.copy_checkpoint_from_gdrive(run_name='run1')\n",
        "\n",
        "sess = gpt2.start_tf_sess()\n",
        "gpt2.load_gpt2(sess, run_name='run1')"
      ],
      "execution_count": null,
      "outputs": []
    },
    {
      "cell_type": "markdown",
      "metadata": {
        "id": "pel-uBULXO2L"
      },
      "source": [
        "Running the next cell will copy the `.rar` checkpoint file from your Google Drive into the Colaboratory VM."
      ]
    },
    {
      "cell_type": "markdown",
      "metadata": {
        "id": "H7LoMj4GA4n_"
      },
      "source": [
        "##  Train a GPT-2 Text-Generating Model w/ GPU For Free \n",
        "\n",
        "by [Max Woolf](http://minimaxir.com)\n",
        "\n",
        "*Last updated: February 14th, 2021*\n",
        "\n",
        "Retrain an advanced text generating neural network on any text dataset **for free on a GPU using Collaboratory** using `gpt-2-simple`!\n",
        "\n",
        "For more about `gpt-2-simple`, you can visit [this GitHub repository](https://github.com/minimaxir/gpt-2-simple). You can also read my [blog post](https://minimaxir.com/2019/09/howto-gpt2/) for more information how to use this notebook!\n"
      ]
    },
    {
      "cell_type": "markdown",
      "metadata": {
        "id": "0wXB05bPDYxS"
      },
      "source": [
        "## Downloading GPT-2\n",
        "\n",
        "If you're retraining a model on new text, you need to download the GPT-2 model first. \n",
        "\n",
        "There are three released sizes of GPT-2:\n",
        "\n",
        "* `124M` (default): the \"small\" model, 500MB on disk.\n",
        "* `355M`: the \"medium\" model, 1.5GB on disk.\n",
        "* `774M`: the \"large\" model, cannot currently be finetuned with Colaboratory but can be used to generate text from the pretrained model (see later in Notebook)\n",
        "* `1558M`: the \"extra large\", true model. Will not work if a K80/P4 GPU is attached to the notebook. (like `774M`, it cannot be finetuned).\n",
        "\n",
        "Larger models have more knowledge, but take longer to finetune and longer to generate text. You can specify which base model to use by changing `model_name` in the cells below.\n",
        "\n",
        "The next cell downloads it from Google Cloud Storage and saves it in the Colaboratory VM at `/models/<model_name>`.\n",
        "\n",
        "This model isn't permanently saved in the Colaboratory VM; you'll have to redownload it if you want to retrain it at a later time."
      ]
    },
    {
      "cell_type": "markdown",
      "metadata": {
        "id": "PYea2xyRBSUM"
      },
      "source": [
        "# Unused Code"
      ]
    },
    {
      "cell_type": "code",
      "metadata": {
        "id": "4RNY6RBI9LmL"
      },
      "source": [
        "gpt2.generate(sess, run_name='run1')"
      ],
      "execution_count": null,
      "outputs": []
    },
    {
      "cell_type": "markdown",
      "metadata": {
        "id": "LdpZQXknFNY3"
      },
      "source": [
        "The next cell will start the actual finetuning of GPT-2. It creates a persistent TensorFlow session which stores the training config, then runs the training for the specified number of `steps`. (to have the finetuning run indefinitely, set `steps = -1`)\n",
        "\n",
        "The model checkpoints will be saved in `/checkpoint/run1` by default. The checkpoints are saved every 500 steps (can be changed) and when the cell is stopped.\n",
        "\n",
        "The training might time out after 4ish hours; make sure you end training and save the results so you don't lose them!\n",
        "\n",
        "**IMPORTANT NOTE:** If you want to rerun this cell, **restart the VM first** (Runtime -> Restart Runtime). You will need to rerun imports but not recopy files.\n",
        "\n",
        "Other optional-but-helpful parameters for `gpt2.finetune`:\n",
        "\n",
        "\n",
        "*  **`restore_from`**: Set to `fresh` to start training from the base GPT-2, or set to `latest` to restart training from an existing checkpoint.\n",
        "* **`sample_every`**: Number of steps to print example output\n",
        "* **`print_every`**: Number of steps to print training progress.\n",
        "* **`learning_rate`**:  Learning rate for the training. (default `1e-4`, can lower to `1e-5` if you have <1MB input data)\n",
        "*  **`run_name`**: subfolder within `checkpoint` to save the model. This is useful if you want to work with multiple models (will also need to specify  `run_name` when loading the model)\n",
        "* **`overwrite`**: Set to `True` if you want to continue finetuning an existing model (w/ `restore_from='latest'`) without creating duplicate copies. "
      ]
    },
    {
      "cell_type": "markdown",
      "metadata": {
        "id": "oF4-PqF0Fl7R"
      },
      "source": [
        "If you're creating an API based on your model and need to pass the generated text elsewhere, you can do `text = gpt2.generate(sess, return_as_list=True)[0]`\n",
        "\n",
        "You can also pass in a `prefix` to the generate function to force the text to start with a given character sequence and generate text from there (good if you add an indicator when the text starts).\n",
        "\n",
        "You can also generate multiple texts at a time by specifing `nsamples`. Unique to GPT-2, you can pass a `batch_size` to generate multiple samples in parallel, giving a massive speedup (in Colaboratory, set a maximum of 20 for `batch_size`).\n",
        "\n",
        "Other optional-but-helpful parameters for `gpt2.generate` and friends:\n",
        "\n",
        "*  **`length`**: Number of tokens to generate (default 1023, the maximum)\n",
        "* **`temperature`**: The higher the temperature, the crazier the text (default 0.7, recommended to keep between 0.7 and 1.0)\n",
        "* **`top_k`**: Limits the generated guesses to the top *k* guesses (default 0 which disables the behavior; if the generated output is super crazy, you may want to set `top_k=40`)\n",
        "* **`top_p`**: Nucleus sampling: limits the generated guesses to a cumulative probability. (gets good results on a dataset with `top_p=0.9`)\n",
        "* **`truncate`**: Truncates the input text until a given sequence, excluding that sequence (e.g. if `truncate='<|endoftext|>'`, the returned text will include everything before the first `<|endoftext|>`). It may be useful to combine this with a smaller `length` if the input texts are short.\n",
        "*  **`include_prefix`**: If using `truncate` and `include_prefix=False`, the specified `prefix` will not be included in the returned text."
      ]
    }
  ]
}